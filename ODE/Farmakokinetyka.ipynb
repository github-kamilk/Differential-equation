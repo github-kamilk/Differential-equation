{
 "cells": [
  {
   "cell_type": "markdown",
   "id": "dbf23ce7",
   "metadata": {},
   "source": [
    "<h1>Farmakokinetyka - dynamika wchłaniania się leków</h1>"
   ]
  },
  {
   "cell_type": "markdown",
   "id": "6672f22b",
   "metadata": {},
   "source": [
    "Paulina Iwach, Kamil Kowalski<br>\n",
    "Matematyka Stosowana, 2 rok<br>\n",
    "Równania różniczkowe w technice"
   ]
  },
  {
   "cell_type": "markdown",
   "id": "54c41698",
   "metadata": {},
   "source": [
    "<h2>Spis treści</h2>\n",
    "<ol>\n",
    "    <li><a href=\"#wstep\">Farmakokinetyka - informacje ogólne</a></li>\n",
    "    <li><a href=\"#historia\">Notka historyczna</a></li>\n",
    "    <li><a href=\"#opis\">Podstawy teoretyczne</a>\n",
    "        <ol>\n",
    "            <li><a href=\"#ladme\">LADME</a></li>\n",
    "            <li><a href=\"#parametry\">Parametry farmakokinetyczne</a></li>\n",
    "            <li><a href=\"#drogi_podania\">Droga podania leku</a></li>\n",
    "            <li><a href=\"#model\">Model jednokompartmentowy</a></li></ol></li>\n",
    "    <li><a href=\"#wyniki\">Obliczenia</a>\n",
    "        <ol>\n",
    "            <li><a href=\"#masa\">Równanie zmiany masy leku</a></li>\n",
    "            <li><a href=\"#stezenie\">Równanie zmiany stężenia leku</a></li>\n",
    "            <li><a href=\"#stezenieprak\">Stężenie w praktyce - dopasowanie danych do wykresu na podstawie stężenia Ibuprofenu</a></li>\n",
    "            <li><a href=\"#euler\">Metoda Eulera</a></li>\n",
    "            <li><a href=\"#runge\">Metoda Runge-Kutta 4. rzędu</a></li></ol></li>\n",
    "    <li><a href=\"#podsumowanie\">Podsumowanie i wnioski</a></li>\n",
    "    <li><a href=\"#literatura\">Literatura</a></li>\n",
    "</ol>"
   ]
  },
  {
   "cell_type": "markdown",
   "id": "b7e91aec",
   "metadata": {},
   "source": [
    "<p id=\"wstep\"><h2>Farmakokinetyka - informacje ogólne</h2></p>"
   ]
  },
  {
   "cell_type": "markdown",
   "id": "96c1078c",
   "metadata": {},
   "source": [
    "<b>Farmakokinetyka</b> to dziedzina farmakologi, która zajmuje się badaniem i matematycznym opisem procesów (LADME), jakie zachodzą w organizmie żywym po podaniu substancji leczniczej, względem czasu. Dzięki odpowiednim modelom farmakokinetycznym możliwe jest wyznaczenie odpowiednej dawki leku, określenie stężenia substancji w organiźmie po upływie konkrentego czasu, a także określenie optymalnej drogi podania. <br><br>\n",
    "Procesy farmakokinetyczne możemy podzielić na:<br>\n",
    "<b>zerowego rzędu</b> - szybkość reakcji jest stała i nie ulega zmianie przy zwiększonym stężeniu leku.<br>\n",
    "<b>pierwszego rzędu(liniowe)</b> - zależy wprost proporcjonalnie od zmiany stężenia leku w czasie.<br>\n",
    "<b>drugiego rzędu</b> - szybkość procesu jest proporcjonalna do drugiej potęgi aktualnego stężenia substancji leczniczej.\n",
    "<a href=\"#lhistoria\">[4]</a>\n",
    "<a href=\"#linformacje\">[5]</a>"
   ]
  },
  {
   "cell_type": "markdown",
   "id": "15f13475",
   "metadata": {},
   "source": [
    "<p id=\"historia\"><h2>Notka historyczna</h2></p>"
   ]
  },
  {
   "cell_type": "markdown",
   "id": "34987b10",
   "metadata": {},
   "source": [
    "Pierwsze badania związane z farmakokinetyką zaczęły się w XIX wieku, wtedy John Snow, brytyjski lekarz i anestezjolog prowadził badania dotyczące cholorofrmu. Zauważył on, że istotna jest dokładność dawki, długości podawania i opisał on wykładniczy zanik chloroformu we krwi. <br>\n",
    "W XX wieku farmakokinetyka zaczęła się gwałtownie rozwijać, w szczególności w okresie po II Wojnie Światowej, dzięki której mocno rozwinęły się dziedziny pokrewne, np. matematyka. <br>\n",
    "W latach 30. XX wieku Eric Widmark badał wpływ alkoholu na ludzki organizm. Wykazał on, że zmiany stężenia we krwi acetonu i alkoholu etylowego można przedstawić matematycznie i zaprezentował wzór pozwalający obliczyć tempo trzeżwienia osoby po spożyciu alkohou. Kilka lat póżniej, w 1937 roku ukazała się pierwsza na świecie publikacja z zakresu farmakokinetyki pt. „Kinetics of distribution of substances administered to the body”, której autorem był szwedzki naukowiec Torsten Teorell.  W 1953 roku nimiecki lekarz F. H. Dost w swojej książce \"Der Blutspiegel\" wprowadził termin farmakokinetyki <a href=\"#lhistoria\">[4]</a>."
   ]
  },
  {
   "cell_type": "markdown",
   "id": "f5dc894a",
   "metadata": {},
   "source": [
    "<p id=\"opis\"><h2>Podstawy teoretyczne</h2></p>"
   ]
  },
  {
   "cell_type": "markdown",
   "id": "0a4db277",
   "metadata": {},
   "source": [
    "<p id=\"ladme\"><h3>LADME</h3></p>"
   ]
  },
  {
   "cell_type": "markdown",
   "id": "f4d48459",
   "metadata": {},
   "source": [
    "Akronim <b>LADME</b> to najprostszy sposób na opisanie losów leku po jego zażyciu. Kolejne litery oznaczają główne procesy od momentu podania, aż do wydalenia <a href=\"#lladme\">[3]</a>.\n",
    "1. L - <i>liberation (uwolnienie)</i>; proces uwalniania sybstancji czynnej znajdującej się w leku który został podany.\n",
    "2. A - <i>absorption (wchłanianie)</i>; proces przenikania substancji czynnej przez błony biologiczne. \n",
    "3. D - <i>distribution (rozmieszczenie)</i>; proces rozprowadzania leku po organiźmie. \n",
    "4. M - <i>metabolism (metabolizm)</i>; proces przemian leków w organiźmie.\n",
    "5. E - <i>excretion (wydalanie)</i>; proces wydalania leków z organizmu.\n"
   ]
  },
  {
   "cell_type": "markdown",
   "id": "5d209e7a",
   "metadata": {},
   "source": [
    "<p id=\"parametry\"><h3>Parametry farmakokinetyczne</h3></p>"
   ]
  },
  {
   "cell_type": "markdown",
   "id": "54273ca6",
   "metadata": {},
   "source": [
    "W tym miejscu chcielibyśmy opisać parametry, które będą się pojawiały w naszych wzorach:<br>\n",
    "$X$ - masa leku w kompartmencie <br>\n",
    "$X_D$ - masa leku w miejscu wchłaniania <br>\n",
    "$X_u$ - masa leku w moczu<br>\n",
    "$X_0$ - podana początkowo ilość leku<br>\n",
    "$k_a$ - stała szybkości absorpcji leku<br>\n",
    "$k_e$ - stała szybkości eliminacji leku z ustroju <br>\n",
    "$k_r$ - stała szybkości eliminacji leku drogą nerkową<br>\n",
    "$k_{nr}$ - stała szybkości eliminacji leku drogą pozanerkową<br>\n",
    "$k=k_r+k_{nr}$ - stała szybkości eliminacji leku z osocza<br>\n",
    "$V_d$ - objętość pojedynczej dystrybucji<br>\n",
    "$C$ - stężenie leku we krwi<br>\n",
    "$C_0$ - stężenie leku we krwi w czasie $t=0$ <br>\n",
    "$F$ - stosunek dawki, która się wchłonie do podanej dawki<br>\n",
    "$$ - <br>"
   ]
  },
  {
   "cell_type": "markdown",
   "id": "2d596d4b",
   "metadata": {},
   "source": [
    "<p id=\"drogi_podania\"><h3>Droga podania leku</h3></p>"
   ]
  },
  {
   "cell_type": "markdown",
   "id": "86165776",
   "metadata": {},
   "source": [
    "Wyróżniamy dwie drogi podania leków - dożylnie oraz pozanaczyniowo. \n",
    "<br>W podaniu dożylnym zakładamy, że lek rozmieszcza się w organiźmie natychmiast i następnie jest wydalany wszystkimi możliwymi drogami.\n",
    "$$X\\xrightarrow{k_{e}}$$\n",
    "<br>W podaniu pozanaczyniowym możemy wyróżnić podanie doustne, doodbytnicze, domięśniowe, transdermalne, podskórne oraz dootrrzewnowe <a href=\"#cwteoria\">[2]</a>. Schemat blokowy opisujący jednorazową dawkę pozanaczyniową jest następujący\n",
    "$$X_{D}\\xrightarrow{k_{a}} X\\xrightarrow{k_{e}} X_{u}.$$<br>\n",
    "Szybkości zmian poszczególnych parametrów możemy opisać w następujący sposób\n",
    "\n",
    "\\begin{equation}\n",
    "\\frac{\\operatorname{d}\\!X_D}{\\operatorname{d}\\!t} = -k_a\\cdot X_D;\n",
    "\\tag{1}\n",
    "\\end{equation}\n",
    "\n",
    "\\begin{equation}\n",
    "\\frac{\\operatorname{d}\\!X}{\\operatorname{d}\\!t} = k_a\\cdot X_D-k_e\\cdot X;\n",
    "\\tag{2}\n",
    "\\end{equation}\n",
    "\n",
    "\\begin{equation}\n",
    "\\frac{\\operatorname{d}\\!{X_u}}{\\operatorname{d}\\!t} = {k_e}\\cdot {X}.\n",
    "\\tag{3}\n",
    "\\end{equation}"
   ]
  },
  {
   "cell_type": "markdown",
   "id": "09c3b57e",
   "metadata": {},
   "source": [
    "<p id=\"model\"><h3>Model jednokompartmentowy</h3></p>"
   ]
  },
  {
   "cell_type": "markdown",
   "id": "ad939b4d",
   "metadata": {},
   "source": [
    "Aby móc opisywać i analizować badania farmakokinetyczne, musimy przyjąć odpowiedni model. Zakłada się, że organizmy składają się jednego lub kilku <i>kompartmentów</i>. W zależności od tego jak dużo tkanek wykazuje podobne reakcje pod wpływem działania danego leku, możemy je łączyć w te same kompartmenty, w ten sposób otrzymując ich skończoną liczbę.<br>\n",
    "Otwarty model jednokompartmentowy zakłada natychmiastowe i homogeniczne mieszanie się leku w organiźmie. Przymiotnik <i>otwarty</i> oznacza, że substancję do organizmu możemy podać różnymi drogami (dożylnie lub pozanaczyniowo) <a href=\"#herman\">[1]</a>.<br><br>\n",
    "W dalszej części projektu zajmiemy się rozważaniem jednorazowej dawki pozanaczyniowej w modelu jednokompartmentowym."
   ]
  },
  {
   "cell_type": "markdown",
   "id": "17ac3262",
   "metadata": {},
   "source": [
    "<p id=\"wyniki\"><h2>Obliczenia</h2></p>"
   ]
  },
  {
   "cell_type": "markdown",
   "id": "6dcb2e7d",
   "metadata": {},
   "source": [
    "<p id=\"masa\"><h3>Równanie zmiany masy leku</h3></p>"
   ]
  },
  {
   "cell_type": "markdown",
   "id": "11302a11",
   "metadata": {},
   "source": [
    "Na początku chcielibyśmy rozważyć równania $(1), (2)$ i $(3)$."
   ]
  },
  {
   "cell_type": "markdown",
   "id": "8679b805",
   "metadata": {},
   "source": [
    "<b>Równanie szybkości zmiany leku w miejscu wchłaniania w zależności od upływu czasu.</b><br>\n",
    "$$\\frac{\\operatorname{d}\\!X_D}{\\operatorname{d}\\!t} = -k_a\\cdot X_D$$<br>\n",
    "Jest to równanie różniczkowe pierwszego rzędu. Rozwiążemy je korzystając z metodu rozdzielania zmiennych. Przyjmijmy warunek początkowy $X_{D}(0) = X_{0}$.\n",
    "\\begin{equation}\n",
    "\\frac{\\operatorname{d}\\!{X_D}}{X_D} = -{k_a}\\cdot \\operatorname{d}\\!t\n",
    "\\end{equation}"
   ]
  },
  {
   "cell_type": "markdown",
   "id": "0b4361a9",
   "metadata": {},
   "source": [
    "\\begin{equation}\n",
    "\\int \\frac{\\operatorname{d}\\!{X_D}}{X_D} = -{k_a} \\int{\\operatorname{d}\\!t}\n",
    "\\end{equation}"
   ]
  },
  {
   "cell_type": "markdown",
   "id": "0eb91ded",
   "metadata": {},
   "source": [
    "\\begin{equation}\n",
    "\\ln \\left|{X_D}\\right| = -k_a\\cdot t + C\n",
    "\\end{equation}"
   ]
  },
  {
   "cell_type": "markdown",
   "id": "8d5dfd42",
   "metadata": {},
   "source": [
    "\\begin{equation}\n",
    "X_D = e^{-k_a\\cdot t+C}\n",
    "\\end{equation}"
   ]
  },
  {
   "cell_type": "markdown",
   "id": "1371e5a5",
   "metadata": {},
   "source": [
    "\\begin{equation}\n",
    "X_D = e^{-k_a\\cdot t}\\cdot A\n",
    "\\end{equation}"
   ]
  },
  {
   "cell_type": "markdown",
   "id": "8577ebb4",
   "metadata": {},
   "source": [
    "Korzystamy z warunków początkowych."
   ]
  },
  {
   "cell_type": "markdown",
   "id": "15ae91fa",
   "metadata": {},
   "source": [
    "\\begin{equation}\n",
    "e^{-k_a\\cdot 0}\\cdot A=X_0\n",
    "\\end{equation}"
   ]
  },
  {
   "cell_type": "markdown",
   "id": "a81deb84",
   "metadata": {},
   "source": [
    "\\begin{equation}\n",
    "A=X_0\n",
    "\\end{equation}"
   ]
  },
  {
   "cell_type": "markdown",
   "id": "88742ac9",
   "metadata": {},
   "source": [
    "Ostatecznie\n",
    "\\begin{equation}\n",
    "X_D = e^{-k_a\\cdot t}\\cdot X_0.\n",
    "\\tag{4}\n",
    "\\end{equation}\n",
    "Oznacza to, że masa leku w miejscu podania maleje wykładniczo z biegiem czasu.<br>"
   ]
  },
  {
   "cell_type": "markdown",
   "id": "863180b8",
   "metadata": {},
   "source": [
    "<b>Równanie zmiany masy leku w kompartmencie w zależności od upływu czasu.</b>\n",
    "\\begin{equation}\n",
    "\\frac{\\operatorname{d}\\!X}{\\operatorname{d}\\!t} = k_a\\cdot X_D-k_e\\cdot X,\\ X(0)=0\n",
    "\\end{equation}"
   ]
  },
  {
   "cell_type": "markdown",
   "id": "6232eea7",
   "metadata": {},
   "source": [
    "Na początku wstawymy do naszego równania wzór $(4)$.\n",
    "\\begin{equation}\n",
    "\\frac{\\operatorname{d}\\!X}{\\operatorname{d}\\!t} = k_a\\cdot X_0\\cdot e^{-k_a\\cdot t}-k_e\\cdot X\n",
    "\\end{equation}"
   ]
  },
  {
   "cell_type": "markdown",
   "id": "f2a9545c",
   "metadata": {},
   "source": [
    "\\begin{equation}\n",
    "X' + {k_e}X = {k_a}{X_0}e^{-{k_a}t}\n",
    "\\tag{5}\n",
    "\\end{equation}"
   ]
  },
  {
   "cell_type": "markdown",
   "id": "8211f22e",
   "metadata": {},
   "source": [
    "Rozwiążemy to równanie metodą uzmienniania stałych. Na początku rozwiążemy równanie jednorodne $X' + {k_e}X =0$ metodą rozdzielania zmiennych."
   ]
  },
  {
   "cell_type": "markdown",
   "id": "f8b785d1",
   "metadata": {},
   "source": [
    "\\begin{equation}\n",
    "\\frac{\\operatorname{d}\\!X}{\\operatorname{d}\\!t} = -k_eX\n",
    "\\end{equation}"
   ]
  },
  {
   "cell_type": "markdown",
   "id": "0ec05704",
   "metadata": {},
   "source": [
    "\\begin{equation}\n",
    "\\int \\frac{\\operatorname{d}\\!{X}}{X} = -{k_e} \\int{\\operatorname{d}\\!t}\n",
    "\\end{equation}"
   ]
  },
  {
   "cell_type": "markdown",
   "id": "9c70d966",
   "metadata": {},
   "source": [
    "\\begin{equation}\n",
    "\\ln \\left|{X}\\right| = -k_et + C\n",
    "\\end{equation}"
   ]
  },
  {
   "cell_type": "markdown",
   "id": "9ceebf93",
   "metadata": {},
   "source": [
    "\\begin{equation}\n",
    "X(t)=Ae^{-k_et}\n",
    "\\end{equation}"
   ]
  },
  {
   "cell_type": "markdown",
   "id": "780f6f23",
   "metadata": {},
   "source": [
    "Następny krok to uzmiennienei stałej $A$."
   ]
  },
  {
   "cell_type": "markdown",
   "id": "58f7018b",
   "metadata": {},
   "source": [
    "\\begin{equation}\n",
    "X(t)=A(t)\\cdot e^{-k_et}\n",
    "\\tag{6}\n",
    "\\end{equation}"
   ]
  },
  {
   "cell_type": "markdown",
   "id": "0b9b9a5c",
   "metadata": {},
   "source": [
    "Obliczamy pochodną z otrzymanego równania."
   ]
  },
  {
   "cell_type": "markdown",
   "id": "a2c44e6b",
   "metadata": {},
   "source": [
    "\\begin{equation}\n",
    "X'(t)=A'(t)\\cdot e^{-k_et}-A(t)\\cdot {k_e}e^{-{k_e}t}\n",
    "\\end{equation}"
   ]
  },
  {
   "cell_type": "markdown",
   "id": "3d9df19e",
   "metadata": {},
   "source": [
    "Wyliczone $X(t)$ oraz $X'(t)$ wstawiamy do równania $(5)$."
   ]
  },
  {
   "cell_type": "markdown",
   "id": "5844e77e",
   "metadata": {},
   "source": [
    "\\begin{equation}\n",
    "A'(t)\\cdot e^{-k_et}-A(t)\\cdot {k_e}e^{-{k_e}t} + {k_e}\\cdot A(t)e^{-k_et} = {k_a}{X_0}e^{-{k_a}t}\n",
    "\\end{equation}"
   ]
  },
  {
   "cell_type": "markdown",
   "id": "171565d7",
   "metadata": {},
   "source": [
    "Redukujemy wyrazy podobne i otrzymujemy"
   ]
  },
  {
   "cell_type": "markdown",
   "id": "5ab8be0e",
   "metadata": {},
   "source": [
    "\\begin{equation}\n",
    "A'(t)\\cdot e^{-k_et}= {k_a}{X_0}e^{-{k_a}t}.\n",
    "\\end{equation}"
   ]
  },
  {
   "cell_type": "markdown",
   "id": "bcdbe65d",
   "metadata": {},
   "source": [
    "$A(t)$ obliczamy całkując obustronnie równanie."
   ]
  },
  {
   "cell_type": "markdown",
   "id": "e4d40fdc",
   "metadata": {},
   "source": [
    "\\begin{equation}\n",
    "A'(t)= {k_a}{X_0}e^{(k_e-k_a)t}\n",
    "\\end{equation}"
   ]
  },
  {
   "cell_type": "markdown",
   "id": "5f5e5776",
   "metadata": {},
   "source": [
    "\\begin{equation}\n",
    "A(t)=\\int {k_a}{X_0}e^{(k_e-k_a)t}\\operatorname{d}\\!t\n",
    "\\end{equation}"
   ]
  },
  {
   "cell_type": "markdown",
   "id": "b29d1528",
   "metadata": {},
   "source": [
    "\\begin{equation}\n",
    "A(t)=\\frac{{k_a}{X_0}}{k_e-k_a}e^{(k_e-k_a)t}+D\n",
    "\\end{equation}"
   ]
  },
  {
   "cell_type": "markdown",
   "id": "3eaca515",
   "metadata": {},
   "source": [
    "Rozwiązanie podstawiamy do równania $(6)$."
   ]
  },
  {
   "cell_type": "markdown",
   "id": "4a16411a",
   "metadata": {},
   "source": [
    "\\begin{equation}\n",
    "X(t)=\\left(\\frac{{k_a}{X_0}}{k_e-k_a}e^{(k_e-k_a)t}+D\\right)\\cdot e^{-k_et}\n",
    "\\end{equation}"
   ]
  },
  {
   "cell_type": "markdown",
   "id": "279b8f1a",
   "metadata": {},
   "source": [
    "\\begin{equation}\n",
    "X(t)=\\frac{{k_a}{X_0}}{k_e-k_a}e^{-k_at}+D\\cdot e^{-k_et}\n",
    "\\end{equation}"
   ]
  },
  {
   "cell_type": "markdown",
   "id": "f17c6973",
   "metadata": {},
   "source": [
    "Korzystamy z warunku początkowego."
   ]
  },
  {
   "cell_type": "markdown",
   "id": "7fc17794",
   "metadata": {},
   "source": [
    "\\begin{equation}\n",
    "\\frac{{k_a}{X_0}}{k_e-k_a}e^{-k_a\\cdot 0}+D\\cdot e^{-k_e\\cdot 0}=0\n",
    "\\end{equation}"
   ]
  },
  {
   "cell_type": "markdown",
   "id": "21689c55",
   "metadata": {},
   "source": [
    "\\begin{equation}\n",
    "D=-\\frac{{k_a}{X_0}}{k_e-k_a}\n",
    "\\end{equation}"
   ]
  },
  {
   "cell_type": "markdown",
   "id": "7240040d",
   "metadata": {},
   "source": [
    "Zatem równanie ilości leku w organiźmie w danej chwili $t$ prezentuje się następująco "
   ]
  },
  {
   "cell_type": "markdown",
   "id": "5d0e2a9a",
   "metadata": {},
   "source": [
    "\\begin{equation}\n",
    "X(t)=\\frac{{k_a}{X_0}}{k_e-k_a}\\left(e^{-k_at}-e^{-k_et}\\right).\n",
    "\\tag{7}\n",
    "\\end{equation}"
   ]
  },
  {
   "cell_type": "markdown",
   "id": "b30fcb82",
   "metadata": {},
   "source": [
    "<b>Równanie szybkości zmiany wydalonego leku z organizmu w zależności od upływu czasu.</b>\n",
    "\\begin{equation}\n",
    "\\frac{\\operatorname{d}\\!{X_u}}{\\operatorname{d}\\!t} = {k_e}\\cdot {X},\\ X_u(0)=0\n",
    "\\end{equation}"
   ]
  },
  {
   "cell_type": "markdown",
   "id": "90e058cc",
   "metadata": {},
   "source": [
    "Na początku podstawmy do naszego równania wzór $(7)$."
   ]
  },
  {
   "cell_type": "markdown",
   "id": "5238f408",
   "metadata": {},
   "source": [
    "\\begin{equation}\n",
    "\\frac{\\operatorname{d}\\!{X_u}}{\\operatorname{d}\\!t}=\\frac{{k_ak_e}{X_0}}{k_e-k_a}\\left(e^{-k_at}-e^{-k_et}\\right)\n",
    "\\end{equation}"
   ]
  },
  {
   "cell_type": "markdown",
   "id": "eb32db6c",
   "metadata": {},
   "source": [
    "$X_u(t)$ obliczamy całkując obustronnie równanie."
   ]
  },
  {
   "cell_type": "markdown",
   "id": "c66e7a7e",
   "metadata": {},
   "source": [
    "\\begin{equation}\n",
    "X_u(t)=\\frac{{k_ak_e}{X_0}}{k_e-k_a}\\int\\left(e^{-k_at}-e^{-k_et}\\right)\\operatorname{d}\\!t\n",
    "\\end{equation}"
   ]
  },
  {
   "cell_type": "markdown",
   "id": "eb10039c",
   "metadata": {},
   "source": [
    "\\begin{equation}\n",
    "X_u(t)=\\frac{{k_ak_e}{X_0}}{k_e-k_a}\\left(\\frac{1}{k_e}e^{-k_et}-\\frac{1}{k_a}e^{-k_at}+C\\right)\n",
    "\\end{equation}"
   ]
  },
  {
   "cell_type": "markdown",
   "id": "bcd699b4",
   "metadata": {},
   "source": [
    "\\begin{equation}\n",
    "X_u(t)=\\frac{X_0}{k_e-k_a}\\left(k_ae^{-k_et}-k_ee^{-k_at}+k_ak_eC\\right)\n",
    "\\end{equation}"
   ]
  },
  {
   "cell_type": "markdown",
   "id": "edbe1835",
   "metadata": {},
   "source": [
    "Korzystamy z warunku początkowego."
   ]
  },
  {
   "cell_type": "markdown",
   "id": "b83f922e",
   "metadata": {},
   "source": [
    "\\begin{equation}\n",
    "\\frac{X_0}{k_e-k_a}\\left(k_ae^{-k_e\\cdot 0}-k_ee^{-k_a\\cdot 0}+k_ak_eC\\right)=0\n",
    "\\end{equation}"
   ]
  },
  {
   "cell_type": "markdown",
   "id": "eda0ef9b",
   "metadata": {},
   "source": [
    "\\begin{equation}\n",
    "k_a-k_e+k_ak_eC=0\n",
    "\\end{equation}"
   ]
  },
  {
   "cell_type": "markdown",
   "id": "eac85725",
   "metadata": {},
   "source": [
    "\\begin{equation}\n",
    "C=\\frac{k_e-k_a}{k_ak_e}\n",
    "\\end{equation}"
   ]
  },
  {
   "cell_type": "markdown",
   "id": "019f4e5d",
   "metadata": {},
   "source": [
    "Zatem równanie ilości wydalonego leku z organizmu w danej chwili $t$ prezentuje się następująco"
   ]
  },
  {
   "cell_type": "markdown",
   "id": "c3300885",
   "metadata": {},
   "source": [
    "\\begin{equation}\n",
    "X_u(t)=\\frac{X_0}{k_e-k_a}\\left(k_ae^{-k_et}-k_ee^{-k_at}\\right)+X_0\n",
    "\\end{equation}"
   ]
  },
  {
   "cell_type": "markdown",
   "id": "1e81960e",
   "metadata": {},
   "source": [
    "\\begin{equation}\n",
    "X_u(t)=X_0\\left(\\frac{k_ae^{-k_et}-k_ee^{-k_at}}{k_e-k_a}+1\\right).\n",
    "\\end{equation}"
   ]
  },
  {
   "cell_type": "markdown",
   "id": "88d73c04",
   "metadata": {},
   "source": [
    "Poniżej zamieszczamy wykresy funkcji $(1), (2), (3)$ dla stałych o wartości $k_a=1,\\ k_e=0,5$ i $X_0=100\\text{ mg}$. Zakładamy, że lek wchłania się całkowicie, a więc $F=1$."
   ]
  },
  {
   "cell_type": "code",
   "execution_count": 3,
   "id": "0d91afd2",
   "metadata": {
    "scrolled": true
   },
   "outputs": [
    {
     "data": {
      "image/png": "[encoded data removed]",
      "text/plain": [
       "<Figure size 432x288 with 1 Axes>"
      ]
     },
     "metadata": {
      "needs_background": "light"
     },
     "output_type": "display_data"
    }
   ],
   "source": [
    "import matplotlib.pyplot as plt\n",
    "import numpy as np\n",
    "\n",
    "ka = 1\n",
    "ke = 0.5\n",
    "xo = 100\n",
    "f = 1\n",
    "\n",
    "t = np.linspace(0, 15, 54000)\n",
    "xd = np.exp(-ka * t) * xo\n",
    "x = ((ka * xo) / (ka - ke)) * (np.exp(-ke * t) - np.exp(-ka * t))\n",
    "xu = f * xo * ((ka * np.exp(-ke * t) - ke * np.exp(-ka * t)) / (ke - ka) + 1)\n",
    "\n",
    "plt.figure()\n",
    "plt.plot(t, xd, label=\"Ilość leku w miejscu podania\")\n",
    "plt.plot(t, x, label=\"Ilość leku w kompartmencie\")\n",
    "plt.plot(t, xu, label=\"Ilość wydalonego leku\")\n",
    "plt.xlim(0, 15)\n",
    "plt.ylim(0, 140)\n",
    "plt.xlabel(\"Czas [h]\")\n",
    "plt.ylabel(\"Ilość leku [mg]\")\n",
    "plt.legend(loc='upper right')\n",
    "plt.title(\"Zmiany ilości leku\")\n",
    "plt.show()\n"
   ]
  },
  {
   "cell_type": "markdown",
   "id": "6ad13d53",
   "metadata": {},
   "source": [
    "<p id=\"stezenie\"><h3>Równanie zmiany stężenia leku</h3></p>"
   ]
  },
  {
   "cell_type": "markdown",
   "id": "f9b9a2b9",
   "metadata": {},
   "source": [
    "Bardzo ważnym pod względem użyteczności jest zagadnienie stężenia leku we krwi. Parametry <b>MEC</b> (<i>Minimal Effective Concetration</i>) oraz <b>MTC</b> (<i>Minimal Toxic Concetration</i>) określają odpowiednio minimalne stężenie terapuetyczne oraz toksyczne dla organizmu. Musimy je znać by móc określić jaka dawka będzie odpowiednia dla naszego pacjenta, wyleczy go, ale nie zrobi mu krzywdy.<br>\n",
    "Wyprowadzimy teraz wzór na czas po którym lek osiąga maksymalne stężenie we krwi. Równanie łączące stężenie z ilością leku w organiźmie ma postać\n",
    "\\begin{equation}\n",
    "C=\\frac{X}{V_d}.\n",
    "\\end{equation}"
   ]
  },
  {
   "cell_type": "markdown",
   "id": "42512b9f",
   "metadata": {},
   "source": [
    "Podstawmy teraz za $X$ rozwiązanie równania $(7)$."
   ]
  },
  {
   "cell_type": "markdown",
   "id": "6d8d1975",
   "metadata": {},
   "source": [
    "\\begin{equation}\n",
    "C(t)=\\frac{{k_a}{X_0}}{\\left(k_e-k_a\\right)V_d}\\left(e^{-k_at}-e^{-k_et}\\right)\n",
    "\\end{equation}"
   ]
  },
  {
   "cell_type": "markdown",
   "id": "cb5b0af3",
   "metadata": {},
   "source": [
    "Powyższe równanie zakłada, że $F=1$, jeśli $F\\neq 1$ wtedy równanie przyjmuje postać"
   ]
  },
  {
   "cell_type": "markdown",
   "id": "24a58019",
   "metadata": {},
   "source": [
    "\\begin{equation}\n",
    "C(t)=\\frac{{Fk_a}{X_0}}{\\left(k_e-k_a\\right)V_d}\\left(e^{-k_at}-e^{-k_et}\\right).\n",
    "\\tag{8}\n",
    "\\end{equation}"
   ]
  },
  {
   "cell_type": "markdown",
   "id": "1afe3a27",
   "metadata": {},
   "source": [
    "Wyznaczymy teraz czas $t_{max}$, w którym stężenie leku we krwi jest największe. W tym celu obliczamy pochodną równania $(8)$."
   ]
  },
  {
   "cell_type": "markdown",
   "id": "bc303eda",
   "metadata": {},
   "source": [
    "\\begin{equation}\n",
    "\\frac{\\operatorname{d}\\!{C}}{\\operatorname{d}\\!t}=\\frac{{Fk_a}{X_0}}{\\left(k_e-k_a\\right)V_d}\\left(-k_ae^{-k_at}+k_ee^{-k_et}\\right)\n",
    "\\end{equation}"
   ]
  },
  {
   "cell_type": "markdown",
   "id": "0142fa4d",
   "metadata": {},
   "source": [
    "Pochodną przyrównujemy do zera by znaleźć ekstrema funkcji."
   ]
  },
  {
   "cell_type": "markdown",
   "id": "b630dbaa",
   "metadata": {},
   "source": [
    "\\begin{equation}\n",
    "\\frac{{Fk_a}{X_0}}{\\left(k_e-k_a\\right)V_d}\\left(-k_ae^{-k_at}+k_ee^{-k_et}\\right)=0\n",
    "\\end{equation}"
   ]
  },
  {
   "cell_type": "markdown",
   "id": "ca8e2e82",
   "metadata": {},
   "source": [
    "\\begin{equation}\n",
    "-k_ae^{-k_at}+k_ee^{-k_et}=0\n",
    "\\end{equation}"
   ]
  },
  {
   "cell_type": "markdown",
   "id": "9f31dac5",
   "metadata": {},
   "source": [
    "\\begin{equation}\n",
    "k_ee^{-k_et}=k_ae^{-k_at}\n",
    "\\end{equation}"
   ]
  },
  {
   "cell_type": "markdown",
   "id": "675c5fbf",
   "metadata": {},
   "source": [
    "\\begin{equation}\n",
    "\\frac{e^{-k_et}}{e^{-k_at}}=\\frac{k_a}{k_e}\n",
    "\\end{equation}"
   ]
  },
  {
   "cell_type": "markdown",
   "id": "235b7e1d",
   "metadata": {},
   "source": [
    "\\begin{equation}\n",
    "e^{t\\left(k_a-k_e\\right)}=\\frac{k_a}{k_e}\n",
    "\\end{equation}"
   ]
  },
  {
   "cell_type": "markdown",
   "id": "2b17070e",
   "metadata": {},
   "source": [
    "Logarytmujemy równanie obustronnie."
   ]
  },
  {
   "cell_type": "markdown",
   "id": "54a7ec55",
   "metadata": {},
   "source": [
    "\\begin{equation}\n",
    "t\\left(k_a-k_e\\right)=\\ln\\frac{k_a}{k_e}\n",
    "\\end{equation}"
   ]
  },
  {
   "cell_type": "markdown",
   "id": "a48532ae",
   "metadata": {},
   "source": [
    "\\begin{equation}\n",
    "t=\\frac{\\ln\\frac{k_a}{k_e}}{k_a-k_e}\n",
    "\\end{equation}"
   ]
  },
  {
   "cell_type": "markdown",
   "id": "5b55f6bb",
   "metadata": {},
   "source": [
    "W obliczonym miejscu znak pochodnej zmienia się z plusa na minus, więc obliczona wartość $t$ to maksimum funkcji $C(t)$. Nie będziemy tego wykazywali analitycznie, narysujemy wykres funkcji $C(t)$, który potwierdzi naszą tezę."
   ]
  },
  {
   "cell_type": "markdown",
   "id": "72fac556",
   "metadata": {},
   "source": [
    "Znając wartość $t_{max}=\\frac{\\ln\\frac{k_a}{k_e}}{k_a-k_e}$, wyprowadźmy wzór na maksymalne stężenie leku we krwi."
   ]
  },
  {
   "cell_type": "markdown",
   "id": "279866ec",
   "metadata": {},
   "source": [
    "\\begin{equation}\n",
    "C_{max}(t) = \\frac{Fk_aX_0}{(k_e - k_a){V_d}}(e^{-k_at_{max}} - e^{-{k_e}t_{max}})\n",
    "\\end{equation}"
   ]
  },
  {
   "cell_type": "markdown",
   "id": "a0b8e87d",
   "metadata": {},
   "source": [
    "\\begin{equation}\n",
    "C_{max}(t) = \\frac{Fk_aX_0}{(k_e - k_a){V_d}}(e^{-\\frac{k_a}{k_a-k_e}\\ln\\frac{k_a}{k_e}} - e^{-\\frac{k_e}{k_a-k_e}}\\ln\\frac{k_a}{k_e})\n",
    "\\end{equation}"
   ]
  },
  {
   "cell_type": "markdown",
   "id": "dc368690",
   "metadata": {},
   "source": [
    "\\begin{equation}\n",
    "C_{max}(t) = \\frac{Fk_a{X_0}}{(k_e - k_a){V_d}} \\left(\\left(\\frac{k_a}{k_e}\\right)^{-\\frac{k_a}{{k_a}-{k_e}}} - \\left(\\frac{k_a}{k_e}\\right)^{-\\frac{k_e}{{k_a}-{k_e}}}\\right)\n",
    "\\end{equation}"
   ]
  },
  {
   "cell_type": "markdown",
   "id": "3162a3ed",
   "metadata": {},
   "source": [
    "Poniżej zamieszczamy wykres funkcji $(8)$ dla stałych o wartości $k_a=1,\\ k_e=0,5$ i $X_0=100\\text{ mg}$. Zakładamy, że lek nie wchłania się całkowicie - $F=0,8$ oraz ulega rozmieszczeniu w całkowitej wodzie organizmu - $V_d=30\\text{ l}$. Wartości MTC oraz MEC zależą od podawanego leku, my przyjmiemy $MTC=1,7\\frac{\\text{mg}}{\\text{l}}$, $MEC=0,8\\frac{\\text{mg}}{\\text{l}}$"
   ]
  },
  {
   "cell_type": "code",
   "execution_count": 4,
   "id": "e555b821",
   "metadata": {
    "scrolled": false
   },
   "outputs": [
    {
     "data": {
      "image/png": "[encoded data removed]",
      "text/plain": [
       "<Figure size 432x288 with 1 Axes>"
      ]
     },
     "metadata": {
      "needs_background": "light"
     },
     "output_type": "display_data"
    }
   ],
   "source": [
    "import matplotlib.pyplot as plt\n",
    "import numpy as np\n",
    "\n",
    "ka = 1\n",
    "ke = 0.5\n",
    "xo = 100\n",
    "f = 0.8\n",
    "Vd = 30\n",
    "MTC = 1.7\n",
    "MEC = 0.8\n",
    "\n",
    "t = np.linspace(0, 10, 54000)\n",
    "C = ((ka * f * xo) / ((ka - ke) * Vd)) * (np.exp(-ke * t) - np.exp(-ka * t))\n",
    "\n",
    "t_max = (1 / (ka - ke)) * np.log(ka / ke)\n",
    "C_max = ((ka * f * xo) / ((ka - ke) * Vd)) * (np.exp(-ke * t_max) - np.exp(-ka * t_max))\n",
    "\n",
    "t_max1 = np.linspace(0, t_max)\n",
    "C_max1 = C_max + 0 * t_max1\n",
    "\n",
    "t_m2 = np.linspace(t_max, t_max)\n",
    "C_m2 = np.linspace(0, C_max)\n",
    "\n",
    "t_MC = np.linspace(0, 10)\n",
    "C_MTC = 1.7 + 0 * t_MC\n",
    "C_MEC = 0.8 + 0 * t_MC\n",
    "\n",
    "plt.figure()\n",
    "plt.plot(t, C, label=\"Stężenie leku\")\n",
    "plt.plot(t_max1, C_max1, ':', color='k')\n",
    "plt.plot(t_m2, C_m2, ':', color='k')\n",
    "plt.plot(t_MC, C_MTC, '--', color='k')\n",
    "plt.plot(t_MC, C_MEC, '--', color='k')\n",
    "plt.xlim(0, 10)\n",
    "plt.xticks([t_max, 2, 4, 6, 8, 10], [\"$t_{max}$\", 2, 4, 6, 8, 10])\n",
    "plt.ylim(0, 2)\n",
    "plt.yticks([1, MEC, C_max, MTC], [1, \"MEC\", \"$C_{max}$\", \"MTC\"])\n",
    "plt.xlabel(\"Czas [h]\")\n",
    "plt.ylabel(\"Stężenie [mg/l]\")\n",
    "plt.legend(loc='upper right')\n",
    "plt.title(\"Stężenie leku w kompartmencie w zależności od czasu\")\n",
    "plt.show()\n"
   ]
  },
  {
   "cell_type": "markdown",
   "id": "34bbdbd4",
   "metadata": {},
   "source": [
    "Wartości znajdujące się pomiędzy MTC i MEC tworzą tzw. okno terapeutyczne."
   ]
  },
  {
   "cell_type": "markdown",
   "id": "baa37c93",
   "metadata": {},
   "source": [
    "<p id=\"stezenieprak\"><h3>Stężenie w praktyce - dopasowanie danych do wykresu na podstawie stężenia Ibuprofenu</h3></p>"
   ]
  },
  {
   "cell_type": "markdown",
   "id": "755e4d8b",
   "metadata": {},
   "source": [
    "Na podstawie danych dotyczących stężenia ibuprofenu w osoczu pacjenta <a href=\"#cwteoria\">[2]</a>, postaramy się oszacować wartości parametrów $k_a,\\ k_e$ i $V_d$.<br>Ponieżej prezentujemy dane na wykresie."
   ]
  },
  {
   "cell_type": "code",
   "execution_count": 30,
   "id": "53ccae75",
   "metadata": {
    "scrolled": true
   },
   "outputs": [
    {
     "data": {
      "image/png": "[encoded data removed]",
      "text/plain": [
       "<Figure size 432x288 with 1 Axes>"
      ]
     },
     "metadata": {
      "needs_background": "light"
     },
     "output_type": "display_data"
    }
   ],
   "source": [
    "import matplotlib.pyplot as plt\n",
    "import numpy as np\n",
    "\n",
    "t_ibuprofen = [0.25, 0.5, 0.75, 1., 2., 3., 4., 6., 9., 12.]\n",
    "C_ibuprofen = [17.8, 26.6, 33.2, 34., 30.4, 19.7, 13.5, 6.5, 2.2, 0.6]\n",
    "\n",
    "plt.figure()\n",
    "plt.plot(t_ibuprofen, C_ibuprofen, \"ro\")\n",
    "plt.xlim(0, 12)\n",
    "plt.ylim(0, 38)\n",
    "plt.xlabel(\"Czas [h]\")\n",
    "plt.ylabel(\"Stężenie [mg/l]\")\n",
    "plt.title(\"Stężenie ibuprofenu w kompartmencie w zależności od czasu\")\n",
    "plt.show()\n"
   ]
  },
  {
   "cell_type": "markdown",
   "id": "576f2113",
   "metadata": {},
   "source": [
    "Oszacowania dokonamy przy pomocy funkcji <i>curve_fit</i> z moduły <i>SciPy</i>. Wykorzystamy przy tym wyprowadzony wzór $(8)$ oraz wiedzę, że podana dawka to $400\\text{ mg}$, a wchłanianie ibuprofenu przez przewód pokarmowy ocenia się na $80\\%$ <a href=\"#libu\">[7]</a>."
   ]
  },
  {
   "cell_type": "code",
   "execution_count": 31,
   "id": "915f7410",
   "metadata": {},
   "outputs": [
    {
     "name": "stdout",
     "output_type": "stream",
     "text": [
      "k_a = 1.6087347526304727, k_e = 0.42334152270420405, V_d=5.7337220991989435, C_max = 34.6458053901155\n"
     ]
    },
    {
     "data": {
      "image/png": "[encoded data removed]",
      "text/plain": [
       "<Figure size 432x288 with 1 Axes>"
      ]
     },
     "metadata": {
      "needs_background": "light"
     },
     "output_type": "display_data"
    }
   ],
   "source": [
    "import matplotlib.pyplot as plt\n",
    "import numpy as np\n",
    "from scipy.optimize import curve_fit\n",
    "\n",
    "xo = 400\n",
    "f = 0.8\n",
    "\n",
    "t_ibuprofen = [0.25, 0.5, 0.75, 1., 2., 3., 4., 6., 9., 12.]\n",
    "C_ibuprofen = [17.8, 26.6, 33.2, 34., 30.4, 19.7, 13.5, 6.5, 2.2, 0.6]\n",
    "\n",
    "\n",
    "def func(t, ka, ke, Vd, xo = 400, f = 0.8):\n",
    "    return ((ka * f * xo) / ((ka - ke) * Vd)) * (np.exp(-ke * t) - np.exp(-ka * t))\n",
    "\n",
    "\n",
    "popt, pcov = curve_fit(func, t_ibuprofen, C_ibuprofen, p0=[1, 0.5, 12])\n",
    "\n",
    "ka = popt[0]\n",
    "ke = popt[1]\n",
    "Vd = popt[2]\n",
    "\n",
    "t = np.linspace(0, 12, 54000)\n",
    "C = ((ka * f * xo) / ((ka - ke) * Vd)) * (np.exp(-ke * t) - np.exp(-ka * t))\n",
    "\n",
    "t_max = (1 / (ka - ke)) * np.log(ka / ke)\n",
    "C_max = ((ka * f * xo) / ((ka - ke) * Vd)) * (np.exp(-ke * t_max) - np.exp(-ka * t_max))\n",
    "\n",
    "t_max1 = np.linspace(0, t_max)\n",
    "C_max1 = C_max + 0 * t_max1\n",
    "\n",
    "t_max2 = np.linspace(t_max, t_max)\n",
    "C_max2 = np.linspace(0, C_max)\n",
    "\n",
    "print(\"k_a = %s, k_e = %s, V_d=%s, C_max = %s\" % (popt[0], popt[1], popt[2], C_max))\n",
    "\n",
    "plt.figure()\n",
    "plt.plot(t, C, label=\"Stężenie leku\")\n",
    "plt.plot(t_max1, C_max1, ':', color='k')\n",
    "plt.plot(t_max2, C_max2, ':', color='k')\n",
    "plt.plot(t_ibuprofen, C_ibuprofen, \"ro\")\n",
    "plt.xlim(0, 12)\n",
    "plt.ylim(0, 38)\n",
    "plt.xticks([t_max, 2, 4, 6, 8, 10, 12], [\"$t_{max}$\", 2, 4, 6, 8, 10, 12])\n",
    "plt.yticks([5, 10, 15, 20, 25, 30, C_max], ['', 10, '', 20, '', 30, \"$C_{max}$\"])\n",
    "plt.xlabel(\"Czas [h]\")\n",
    "plt.ylabel(\"Stężenie [mg/l]\")\n",
    "plt.legend(loc='upper right')\n",
    "plt.title(\"Stężenie ibuprofenu w kompartmencie w zależności od czasu\")\n",
    "plt.show()\n"
   ]
  },
  {
   "cell_type": "markdown",
   "id": "f4241139",
   "metadata": {},
   "source": [
    "Wartości oszacowanych przez nas współczynników to $k_a=1,6$, $k_e=0,42$ oraz $V_d=5,73$. Dodatkowo możemy odczytać, że maksymalne stężenie wynosi $34,65\\frac{\\text{mg}}{\\text{l}}$."
   ]
  },
  {
   "cell_type": "markdown",
   "id": "6d57db3b",
   "metadata": {},
   "source": [
    "<p id=\"euler\"><h3>Metoda Eulera</h3></p>"
   ]
  },
  {
   "cell_type": "markdown",
   "id": "871bd80d",
   "metadata": {},
   "source": [
    "Równania różniczkowe nie zawsze jesteśmy w stanie rozwiązać za pomocą metod analitycznych. W takich przypadkach z pomocą przychodzą nam metody numeryczne wykonane przy użyciu komputera. Jedną z takich metod jest metoda Eulera. Opiera się ona na interpretacji geometrycznej równania różniczkowego.<br>\n",
    "Załóżmy, że mamy równanie różniczkowe postaci $y'=f(t,y)$ z danymi warunkami początkowymi. Pomysł na rozwiązanie takiego równania to dowolnie bliskie przybliżenie $y(t)$. Z definicji pochodnej mamy, że\n",
    "\\begin{equation}\n",
    "y'=\\frac{\\Delta y}{h}.\n",
    "\\end{equation}"
   ]
  },
  {
   "cell_type": "markdown",
   "id": "9c576358",
   "metadata": {},
   "source": [
    "Zatem"
   ]
  },
  {
   "cell_type": "markdown",
   "id": "3c8ec7b6",
   "metadata": {},
   "source": [
    "\\begin{equation}\n",
    "f(t_n,y_n)=\\frac{\\Delta y}{h}, \\text{ gdzie } t_{n+1}=t_n+h,\\ n=0,1,2,\\dots.\n",
    "\\end{equation}"
   ]
  },
  {
   "cell_type": "markdown",
   "id": "6bc2819c",
   "metadata": {},
   "source": [
    "Po przekształceniu otrzymujemy"
   ]
  },
  {
   "cell_type": "markdown",
   "id": "bbcd95b2",
   "metadata": {},
   "source": [
    "\\begin{equation}\n",
    "\\Delta y=hf(t_n,y_n).\n",
    "\\end{equation}"
   ]
  },
  {
   "cell_type": "markdown",
   "id": "c49b34e1",
   "metadata": {},
   "source": [
    "Dzięki temu jesteśmy napisać ostateczne równanie"
   ]
  },
  {
   "cell_type": "markdown",
   "id": "605a3770",
   "metadata": {},
   "source": [
    "\\begin{equation}\n",
    "y_{n+1}=y_n+\\Delta y=y_n+hf(t_n,y_n).\n",
    "\\end{equation}"
   ]
  },
  {
   "cell_type": "markdown",
   "id": "d732a050",
   "metadata": {},
   "source": [
    "<b>Rozwiązanie równań $(1),\\ (2),\\ (3)$ metodą Eulera.</b> "
   ]
  },
  {
   "cell_type": "markdown",
   "id": "63271abb",
   "metadata": {},
   "source": [
    "Równania rozwiązaliśmy już analitycznie, dlatego w tej części sprawdzimy jak duża będzie różnica pomiędzy wynikami uzyskanymi w metodzie Eulera i metodzie analitycznej. Na początku, dzięki zaimplementowaniu metody Eulera w języku Python, przedstawimy wszystkie trzy rozwiązania na wykresie."
   ]
  },
  {
   "cell_type": "markdown",
   "id": "0bfde006",
   "metadata": {},
   "source": [
    "\\begin{equation}\n",
    "\\frac{\\operatorname{d}\\!X_D}{\\operatorname{d}\\!t} = -k_a\\cdot X_D\n",
    "\\tag{1}\n",
    "\\end{equation}"
   ]
  },
  {
   "cell_type": "markdown",
   "id": "1c3def6d",
   "metadata": {},
   "source": [
    "\\begin{equation}\n",
    "\\frac{\\operatorname{d}\\!X}{\\operatorname{d}\\!t} = k_a X_0 e^{-k_a\\cdot t}-k_e X\n",
    "\\tag{2}\n",
    "\\end{equation}"
   ]
  },
  {
   "cell_type": "markdown",
   "id": "d5cc54e3",
   "metadata": {},
   "source": [
    "\\begin{equation}\n",
    "\\frac{\\operatorname{d}\\!{X_u}}{\\operatorname{d}\\!t}=\\frac{{k_ak_e}{X_0}}{k_e-k_a}\\left(e^{-k_at}-e^{-k_et}\\right)\n",
    "\\tag{3}\n",
    "\\end{equation}"
   ]
  },
  {
   "cell_type": "code",
   "execution_count": 32,
   "id": "aa432339",
   "metadata": {},
   "outputs": [
    {
     "data": {
      "image/png": "[encoded data removed]",
      "text/plain": [
       "<Figure size 432x288 with 1 Axes>"
      ]
     },
     "metadata": {
      "needs_background": "light"
     },
     "output_type": "display_data"
    },
    {
     "data": {
      "image/png": "[encoded data removed]",
      "text/plain": [
       "<Figure size 432x288 with 1 Axes>"
      ]
     },
     "metadata": {
      "needs_background": "light"
     },
     "output_type": "display_data"
    },
    {
     "data": {
      "image/png": "[encoded data removed]",
      "text/plain": [
       "<Figure size 432x288 with 1 Axes>"
      ]
     },
     "metadata": {
      "needs_background": "light"
     },
     "output_type": "display_data"
    }
   ],
   "source": [
    "import matplotlib.pyplot as plt\n",
    "import numpy as np\n",
    "\n",
    "\n",
    "def euler(f, y0, t0, tk, h):\n",
    "    t = np.arange(t0, tk, h)\n",
    "    n = len(t)\n",
    "    y = np.zeros(n)\n",
    "    y[0] = np.array(y0)\n",
    "    i = 1\n",
    "    while i < n:\n",
    "        y[i] = np.array(y[i - 1] + h * f(t[i - 1], y[i - 1]))\n",
    "        i = i + 1\n",
    "    return t, y\n",
    "\n",
    "\n",
    "def mass_d(t, xd):\n",
    "    return - ka * xd\n",
    "\n",
    "\n",
    "def mass(t, x):\n",
    "    return ka * np.exp(-ka * t) * xo - ke * x\n",
    "\n",
    "\n",
    "def mass_u(t, xu):\n",
    "    return (ka * ke * xo) / (ke - ka) * (np.exp(-ka * t) - np.exp(-ke * t))\n",
    "\n",
    "\n",
    "ka = 1\n",
    "ke = 0.5\n",
    "xo = 100\n",
    "f = 1\n",
    "\n",
    "# analitical\n",
    "t = np.arange(0, 15, 0.01)\n",
    "xd = np.exp(-ka * t) * xo\n",
    "x = ((ka * xo) / (ka - ke)) * (np.exp(-ke * t) - np.exp(-ka * t))\n",
    "xu = f * xo * ((ka * np.exp(-ke * t) - ke * np.exp(-ka * t)) / (ke - ka) + 1)\n",
    "\n",
    "# euler\n",
    "t_xd, xd_euler = euler(mass_d, xo, 0, 15, 0.01)\n",
    "t_x, x_euler = euler(mass, 0, 0, 15, 0.01)\n",
    "t_xu, xu_euler = euler(mass_u, 0, 0, 15, 0.01)\n",
    "\n",
    "plt.figure()\n",
    "plt.plot(t, xd, label=\"Metoda analityczna\")\n",
    "plt.plot(t_xd, xd_euler, label=\"Metoda Eulera\")\n",
    "plt.xlim(0, 15)\n",
    "plt.ylim(0, 140)\n",
    "plt.xlabel(\"Czas [h]\")\n",
    "plt.ylabel(\"Ilość leku [mg]\")\n",
    "plt.legend(loc='upper right')\n",
    "plt.title(\"Zmiany ilości leku w miejscu podania w zależności od czasu\")\n",
    "plt.show()\n",
    "\n",
    "plt.figure()\n",
    "plt.plot(t, x, label=\"Metoda analityczna\")\n",
    "plt.plot(t_x, x_euler, label=\"Metoda Eulera\")\n",
    "plt.xlim(0, 15)\n",
    "plt.ylim(0, 140)\n",
    "plt.xlabel(\"Czas [h]\")\n",
    "plt.ylabel(\"Ilość leku [mg]\")\n",
    "plt.legend(loc='upper right')\n",
    "plt.title(\"Zmiana ilości leku w kompartmencie w zależności od czasu\")\n",
    "plt.show()\n",
    "\n",
    "plt.figure()\n",
    "plt.plot(t, xu, label=\"Metoda analityczna\")\n",
    "plt.plot(t_xu, xu_euler, label=\"Metoda Eulera\")\n",
    "plt.xlim(0, 15)\n",
    "plt.ylim(0, 140)\n",
    "plt.xlabel(\"Czas [h]\")\n",
    "plt.ylabel(\"Ilość leku [mg]\")\n",
    "plt.legend(loc='upper right')\n",
    "plt.title(\"Zmiany ilości wydalonego leku w zależności od czasu\")\n",
    "plt.show()\n"
   ]
  },
  {
   "cell_type": "markdown",
   "id": "493a88e2",
   "metadata": {},
   "source": [
    "Jak możemy zaobserwować, wydaje się, że metoda Eulera dość dokładnie pokrywa się z metodą analityczną. Krok o wartości $h=0,01$ okazał się wstarczający by uzyskać zadowalającą nam dokładność.\n",
    "\n",
    "Naszkicujmy teraz wykres różnicy między rozwiązaniem analitycznym a metodą Eulera."
   ]
  },
  {
   "cell_type": "code",
   "execution_count": 33,
   "id": "e8531b16",
   "metadata": {},
   "outputs": [
    {
     "data": {
      "image/png": "[encoded data removed]",
      "text/plain": [
       "<Figure size 432x288 with 1 Axes>"
      ]
     },
     "metadata": {
      "needs_background": "light"
     },
     "output_type": "display_data"
    }
   ],
   "source": [
    "plt.figure()\n",
    "plt.plot(t, np.abs(xd_euler - xd), label=\"$X_d$\")\n",
    "plt.plot(t, np.abs(x_euler - x), label=\"$X$\")\n",
    "plt.plot(t, np.abs(xu_euler - xu), label=\"$X_u$\")\n",
    "plt.xlabel(\"Czas [h]\")\n",
    "plt.ylabel(\"Ilość leku [mg]\")\n",
    "plt.legend(loc='upper right')\n",
    "plt.title(\"Błąd bezwzględny rozwiązania analitycznego i metody Eulera dla $h = 0.01$\")\n",
    "plt.show()\n"
   ]
  },
  {
   "cell_type": "markdown",
   "id": "d394e5f7",
   "metadata": {},
   "source": [
    "Jak widzimy dla kroku $h=0,001$ błąd bezwzględny przy metodzie Eulera nie jest większy niż $3\\cdot 10^{-1}\\text{mg}$."
   ]
  },
  {
   "cell_type": "markdown",
   "id": "7961337d",
   "metadata": {},
   "source": [
    "<p id=\"runge\"><h3>Metoda Runge-Kutta 4. rzędu</h3></p>"
   ]
  },
  {
   "cell_type": "markdown",
   "id": "ba397100",
   "metadata": {},
   "source": [
    "Jest to metoda numeryczna, która w sposób iteracyjny rozwiązuje równania różniczkowe zwyczajne, bardzo często stosowana w symulacjach fizycznych. Została opracowana przez Carla Rungego oraz Martina Kuttę, około 1900 roku.<br>\n",
    "Istnieje wiele modyfikacji tej metody. Ta najbardziej znana to metoda Runge-Kutty 4. rzędu. Jest najczęściej stosowana ze względu na proste wzory, implementację oraz dużą szybkość i dokładność. Warto dodać, że metoda Runge-Kutty 1. rzędu to inaczej metoda Eulera. <a href=\"#lrk\">[6]</a><br><br>\n",
    "<b>Algorytm</b><br>\n",
    "Naszym celem jest poznanie kolejnych wartości równania różniczkowego $y'=f(t,y)$ z wartością początkową $y(t_0)=y_0$. Iteracyjny wzór prezentuje się następująco"
   ]
  },
  {
   "cell_type": "markdown",
   "id": "8b0d1f25",
   "metadata": {},
   "source": [
    "\\begin{equation}\n",
    "y_{n+1}=y_n+\\Delta y_n,\n",
    "\\end{equation}"
   ]
  },
  {
   "cell_type": "markdown",
   "id": "9bee1b6e",
   "metadata": {},
   "source": [
    "\\begin{equation}\n",
    "\\Delta y_{n}=\\frac{1}{6}\\left( k_1+2k_2+2k_3+k_4\\right),\n",
    "\\end{equation}"
   ]
  },
  {
   "cell_type": "markdown",
   "id": "0e072dfc",
   "metadata": {},
   "source": [
    "gdzie"
   ]
  },
  {
   "cell_type": "markdown",
   "id": "c47288af",
   "metadata": {},
   "source": [
    "\\begin{equation}\n",
    "k_1=hf(t_n,y_n),\n",
    "\\end{equation}"
   ]
  },
  {
   "cell_type": "markdown",
   "id": "c3dd3a09",
   "metadata": {},
   "source": [
    "\\begin{equation}\n",
    "k_2=hf\\left(t_n+\\frac{h}{2},y_n+\\frac{k_1}{2}\\right),\n",
    "\\end{equation}"
   ]
  },
  {
   "cell_type": "markdown",
   "id": "12c0f051",
   "metadata": {},
   "source": [
    "\\begin{equation}\n",
    "k_3=hf\\left(t_n+\\frac{h}{2},y_n+\\frac{k_2}{2}\\right),\n",
    "\\end{equation}"
   ]
  },
  {
   "cell_type": "markdown",
   "id": "8412e6d0",
   "metadata": {},
   "source": [
    "\\begin{equation}\n",
    "k_4=hf(t_n+h,y_n+k_3).\n",
    "\\end{equation}"
   ]
  },
  {
   "cell_type": "markdown",
   "id": "706a7b2f",
   "metadata": {},
   "source": [
    "$h$ to przyjmowany dowolnie krok całkowania. Wartość $y_{n+1}$ zależy od wartości $y_n$ oraz $h$.<br><br>\n",
    "<b>Implementacja</b><br>\n",
    "Poniżej znajduje się implementacja metody Runge-Kutty 4. rzędu dla równań masy leku, napisana w języku Python."
   ]
  },
  {
   "cell_type": "code",
   "execution_count": 34,
   "id": "6addd0a6",
   "metadata": {},
   "outputs": [
    {
     "data": {
      "image/png": "[encoded data removed]",
      "text/plain": [
       "<Figure size 432x288 with 1 Axes>"
      ]
     },
     "metadata": {
      "needs_background": "light"
     },
     "output_type": "display_data"
    },
    {
     "data": {
      "image/png": "[encoded data removed]",
      "text/plain": [
       "<Figure size 432x288 with 1 Axes>"
      ]
     },
     "metadata": {
      "needs_background": "light"
     },
     "output_type": "display_data"
    },
    {
     "data": {
      "image/png": "[encoded data removed]",
      "text/plain": [
       "<Figure size 432x288 with 1 Axes>"
      ]
     },
     "metadata": {
      "needs_background": "light"
     },
     "output_type": "display_data"
    }
   ],
   "source": [
    "import matplotlib.pyplot as plt\n",
    "import numpy as np\n",
    "\n",
    "\n",
    "def runge_kutta(f, y0, t0, tk, h):\n",
    "    t = np.arange(t0, tk, h)\n",
    "    n = len(t)\n",
    "    y = np.zeros(n)\n",
    "    y[0] = np.array(y0)\n",
    "    i = 1\n",
    "    while i < n:\n",
    "        k1 = h * f(t0, y[i - 1])\n",
    "        k2 = h * f(t0 + 0.5 * h, y[i - 1] + 0.5 * k1)\n",
    "        k3 = h * f(t0 + 0.5 * h, y[i - 1] + 0.5 * k2)\n",
    "        k4 = h * f(t0 + h, y[i - 1] + k3)\n",
    "\n",
    "        y[i] = np.array(y[i - 1] + (1.0 / 6.0) * (k1 + 2 * k2 + 2 * k3 + k4))\n",
    "\n",
    "        t0 += h\n",
    "        i += 1\n",
    "    return t, y\n",
    "\n",
    "\n",
    "def mass_d(t, xd):\n",
    "    return - ka * xd\n",
    "\n",
    "\n",
    "def mass(t, x):\n",
    "    return ka * np.exp(-ka * t) * xo - ke * x\n",
    "\n",
    "\n",
    "def mass_u(t, xu):\n",
    "    return (ka * ke * xo) / (ke - ka) * (np.exp(-ka * t) - np.exp(-ke * t))\n",
    "\n",
    "\n",
    "ka = 1\n",
    "ke = 0.5\n",
    "xo = 100\n",
    "f = 1\n",
    "\n",
    "# analitical\n",
    "t = np.arange(0, 15, 0.01)\n",
    "xd = np.exp(-ka * t) * xo\n",
    "x = ((ka * xo) / (ka - ke)) * (np.exp(-ke * t) - np.exp(-ka * t))\n",
    "xu = f * xo * ((ka * np.exp(-ke * t) - ke * np.exp(-ka * t)) / (ke - ka) + 1)\n",
    "\n",
    "# runge_kutta\n",
    "t_xd, xd_runge = runge_kutta(mass_d, xo, 0, 15, 0.01)\n",
    "t_x, x_runge = runge_kutta(mass, 0, 0, 15, 0.01)\n",
    "t_xu, xu_runge = runge_kutta(mass_u, 0, 0, 15, 0.01)\n",
    "\n",
    "plt.figure()\n",
    "plt.plot(t, xd, label=\"Metoda analityczna\")\n",
    "plt.plot(t_xd, xd_runge, label=\"Metoda Runge–Kutta\")\n",
    "plt.xlim(0, 15)\n",
    "plt.ylim(0, 140)\n",
    "plt.xlabel(\"Czas [h]\")\n",
    "plt.ylabel(\"Ilość leku [mg]\")\n",
    "plt.legend(loc='upper right')\n",
    "plt.title(\"Zmiany ilości leku w miejscu podania w zależności od czasu\")\n",
    "plt.show()\n",
    "\n",
    "plt.figure()\n",
    "plt.plot(t, x, label=\"Metoda analityczna\")\n",
    "plt.plot(t_x, x_runge, label=\"Metoda Runge–Kutta w zależności od czasu\")\n",
    "plt.xlim(0, 15)\n",
    "plt.ylim(0, 140)\n",
    "plt.xlabel(\"Czas [h]\")\n",
    "plt.ylabel(\"Ilość leku [mg]\")\n",
    "plt.legend(loc='upper right')\n",
    "plt.title(\"Zmiana ilości leku w kompartmencie w zależności od czasu\")\n",
    "plt.show()\n",
    "\n",
    "plt.figure()\n",
    "plt.plot(t, xu, label=\"Metoda analityczna\")\n",
    "plt.plot(t_xu, xu_runge, label=\"Metoda Runge–Kutta w zależności od czasu\")\n",
    "plt.xlim(0, 15)\n",
    "plt.ylim(0, 140)\n",
    "plt.xlabel(\"Czas [h]\")\n",
    "plt.ylabel(\"Ilość leku [mg]\")\n",
    "plt.legend(loc='upper right')\n",
    "plt.title(\"Zmiany ilości wydalonego leku w zależności od czasu\")\n",
    "plt.show()\n"
   ]
  },
  {
   "cell_type": "markdown",
   "id": "77cb9b5b",
   "metadata": {},
   "source": [
    "Podobnie jak przy metodzie Eulera, powstałe wykresy dość dokładnie się pokrywają. Zbadajmy teraz błąd bezwględny."
   ]
  },
  {
   "cell_type": "code",
   "execution_count": 31,
   "id": "16c54b33",
   "metadata": {
    "scrolled": true
   },
   "outputs": [
    {
     "data": {
      "image/png": "[encoded data removed]",
      "text/plain": [
       "<Figure size 432x288 with 1 Axes>"
      ]
     },
     "metadata": {
      "needs_background": "light"
     },
     "output_type": "display_data"
    }
   ],
   "source": [
    "plt.figure()\n",
    "plt.plot(t, np.abs(xd_runge - xd), label=\"$X_d$\")\n",
    "plt.plot(t, np.abs(x_runge - x), label=\"$X$\")\n",
    "plt.plot(t, np.abs(xu_runge - xu), label=\"$X_u$\")\n",
    "plt.xlabel(\"Czas [h]\")\n",
    "plt.ylabel(\"Ilość leku [mg]\")\n",
    "plt.legend(loc='upper right')\n",
    "plt.title(\"Błąd bezwzględny rozwiązania analitycznego i metody RK dla h = 0.01\\n\")\n",
    "plt.show()\n"
   ]
  },
  {
   "cell_type": "markdown",
   "id": "f75b36b8",
   "metadata": {},
   "source": [
    "Jak widzimy na powyższym wykresie, wyniki uzyskane w metodzie Runge-Kutta niemal pokrywają się z wynikami analitycznymi. Powstałe różnice nie są większe niż $3\\cdot 10^{-9}$, podczas gdy w metodzie Eulera było to $3\\cdot 10^{-1}\\text{mg}$.<br>\n",
    "Zatem metoda Runge-Kutta jest około $10^8$ razy dokładniejsza, w porównaniu z metodą Eulera."
   ]
  },
  {
   "cell_type": "markdown",
   "id": "4219380c",
   "metadata": {},
   "source": [
    "<p id=\"podsumowanie\"><h2>Podsumowanie</h2></p>"
   ]
  },
  {
   "cell_type": "markdown",
   "id": "b43974f7",
   "metadata": {},
   "source": [
    "Podczas tworzenia projektu mieliśmy okazję przekonać się jak istotną rolę pełni matematyka w farmakokinetyce, a w szczególności poznać praktyczne zastosowanie równań różniczkowych. Dzięki nim możemy między innymi wyliczać odpowiednie dawkowanie leków i przewidywać procesy jakie zajdą w organiźmie, w określonym czasie, po podaniu konkretnych substancji. <br>\n",
    "W naszej pracy omówiliśmy podstawowe zagadnienia związane z farmakokinetyką, rozważyliśmy równania zmiany masy i stężenia leku, rozwiązaliśmy je metodami analitcznymi i numerycznymi oraz przy pomocy znanych nam narzędzi, oszacowaliśmy wartości parametrów farmakokinetycznych.<br>"
   ]
  },
  {
   "cell_type": "markdown",
   "id": "0afc6b4c",
   "metadata": {},
   "source": [
    "<p id=\"literatura\"><h2>Literatura i źródła</h2></p>"
   ]
  },
  {
   "cell_type": "markdown",
   "id": "5d04181b",
   "metadata": {},
   "source": [
    "[1] <span id=\"herman\">Tadeusz W. Hermann: <i>Farmakokinetyka - Teoria i praktyka</i>, Warszawa 2002</span><br>\n",
    "[2] <span id=\"cwteoria\">www.ump.edu.pl/media/uid/0697-f0fadb562c7d742/1a1373.pdf</span><br>\n",
    "[3] <span id=\"lladme\">www.encyklopedia.naukowy.pl/LADME</span><br>\n",
    "[4] <span id=\"lhistoria\">www.umb.edu.pl/photo/pliki/WF_jednostki/samodzielna-pracownia-biofarmacji/farmakokinetyka/seminarium_i_-_wprowadzenie_do_farmakokinetyki.pdf</span><br>\n",
    "[5] <span id=\"linformacje\">www.aptekarzpolski.pl/wiedza/farmakokinetyka-prosta-dla-kazdego/</span><br>\n",
    "[6] <span id=\"lrk\">www.wikiwand.com/pl/Algorytm_Rungego-Kutty</span><br>\n",
    "[7] <span id=\"libu\">www.leki.urpl.gov.pl/files/25_IbuprofenPabi_tabl_drazow.pdf</span><br>"
   ]
  },
  {
   "cell_type": "code",
   "execution_count": null,
   "id": "9a7a06d7",
   "metadata": {},
   "outputs": [],
   "source": []
  }
 ],
 "metadata": {
  "kernelspec": {
   "display_name": "Python 3",
   "language": "python",
   "name": "python3"
  },
  "language_info": {
   "codemirror_mode": {
    "name": "ipython",
    "version": 3
   },
   "file_extension": ".py",
   "mimetype": "text/x-python",
   "name": "python",
   "nbconvert_exporter": "python",
   "pygments_lexer": "ipython3",
   "version": "3.8.8"
  }
 },
 "nbformat": 4,
 "nbformat_minor": 5
}
