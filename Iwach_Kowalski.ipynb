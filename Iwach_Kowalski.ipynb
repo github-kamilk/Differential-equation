{
 "cells": [
  {
   "cell_type": "markdown",
   "id": "dbf23ce7",
   "metadata": {},
   "source": [
    "<h1>Farmakokinetyka - dynamika wchłaniania się leków</h1>"
   ]
  },
  {
   "cell_type": "markdown",
   "id": "54c41698",
   "metadata": {},
   "source": [
    "<h2>Spis treści</h2>\n",
    "<ol>\n",
    "    <li><a href=\"#wstep\">Farmakokinetyka - informacje ogólne</a></li>\n",
    "    <li><a href=\"#historia\">Notka historyczna</a></li>\n",
    "    <li><a href=\"#opis\">Podstawy teoretyczne</a>\n",
    "        <ol>\n",
    "            <li><a href=\"#ladme\">LADME</a></li>\n",
    "            <li><a href=\"#parametry\">Parametry farmakokinetyczne</a></li>\n",
    "            <li><a href=\"#drogi_podania\">Droga podania leku</a></li>\n",
    "            <li><a href=\"#procesy_wchłaniania\">Proces wchłaniania</a></li>\n",
    "            <li><a href=\"#model\">Model jednokompartmentowy</a></li></ol></li>\n",
    "    <li><a href=\"#wyniki\">Obliczenia</a>\n",
    "        <ol>\n",
    "            <li><a href=\"#masa\">Równanie zmiany masy leku</a></li>\n",
    "            <li><a href=\"#stezenie\">Równanie zmiany stężenia leku</a></li>\n",
    "            <li><a href=\"#euler\">Metoda Eulera</a></li></ol></li>\n",
    "    <li><a href=\"#podsumowanie\">Podsumowanie i wnioski</a></li>\n",
    "    <li><a href=\"#literatura\">Literatura</a></li>\n",
    "</ol>"
   ]
  },
  {
   "cell_type": "markdown",
   "id": "b7e91aec",
   "metadata": {},
   "source": [
    "<p id=\"wstep\"><h2>Farmakokinetyka - informacje ogólne</h2></p>"
   ]
  },
  {
   "cell_type": "markdown",
   "id": "96c1078c",
   "metadata": {},
   "source": []
  },
  {
   "cell_type": "markdown",
   "id": "15f13475",
   "metadata": {},
   "source": [
    "<p id=\"historia\"><h2>Notka historyczna</h2></p>"
   ]
  },
  {
   "cell_type": "markdown",
   "id": "34987b10",
   "metadata": {},
   "source": [
    "Pierwsze badania związane z farmakokinetyką zaczęły się w XIX wieku, wtedy John Snow, brytyjski lekarz i anestezjolog prowadził badania dotyczące cholorofrmu. Zauważył on, że istotna jest dokładność dawki, długości podawania i opisał on wykładniczy zanik chloroformu we krwi. <br>\n",
    "W XX wieku farmakokinetyka zaczęła się gwałtownie rozwijać, w szczególności w okresie po II Wojnie Światowej, dzięki której mocno rozwinęły się dziedziny pokrewne, np. matematyka. <br>\n",
    "W latach 30. XX wieku Eric Widmark badał wpływ alkoholu na ludzki organizm. Wykazał on, że zmiany stężenia we krwi acetonu i alkoholu etylowego można przedstawić matematycznie i zaprezentował wzór pozwalający obliczyć tempo trzeżwienia osoby po spożyciu alkohou. Kilka lat póżniej, w 1937 roku ukazała się pierwsza na świecie publikacja z zakresu farmakokinetyki pt. „Kinetics of distribution of substances administered to the body”, której autorem był szwedzki naukowiec Torsten Teorell.  W 1953 roku nimiecki lekarz F. H. Dost w swojej książce \"Der Blutspiegel\" wprowadził termin farmakokinetyki <a href=\"#lhistoria\">[4]</a>."
   ]
  },
  {
   "cell_type": "markdown",
   "id": "f5dc894a",
   "metadata": {},
   "source": [
    "<p id=\"opis\"><h2>Podstawy teoretyczne</h2></p>"
   ]
  },
  {
   "cell_type": "markdown",
   "id": "0a4db277",
   "metadata": {},
   "source": [
    "<p id=\"ladme\"><h2>LADME</h2></p>"
   ]
  },
  {
   "cell_type": "markdown",
   "id": "f4d48459",
   "metadata": {},
   "source": [
    "Akronim <b>LADME</b> to najprostszy sposób na opisanie losów leku po jego zażyciu. Kolejne litery oznaczają główne procesy od momentu podania, aż do wydalenia <a href=\"#lladme\">[3]</a>.\n",
    "1. L - <i>liberation (uwolnienie)</i>; proces uwalniania sybstancji czynnej znajdującej się w leku który został podany.\n",
    "2. A - <i>absorption (wchłanianie)</i>; proces przenikania substancji czynnej przez błony biologiczne. \n",
    "3. D - <i>distribution (rozmieszczenie)</i>; proces rozprowadzania leku po organiźmie. \n",
    "4. M - <i>metabolism (metabolizm)</i>; proces przemian leków w organiźmie.\n",
    "5. E - <i>excretion (wydalanie)</i>; proces wydalania leków z organizmu.\n"
   ]
  },
  {
   "cell_type": "markdown",
   "id": "5d209e7a",
   "metadata": {},
   "source": [
    "<p id=\"parametry\"><h2>Parametry farmakokinetyczne</h2></p>"
   ]
  },
  {
   "cell_type": "markdown",
   "id": "54273ca6",
   "metadata": {},
   "source": [
    "W tym miejscu chcielibyśmy opisać parametry, które będą się pojawiały w naszych wzorach:<br>\n",
    "$X$ - masa leku w kompartmencie <br>\n",
    "$X_D$ - masa leku w miejscu wchłaniania <br>\n",
    "$X_u$ - masa leku w moczu<br>\n",
    "$X_0$ - podana początkowo ilość leku<br>\n",
    "$k_a$ - stała szybkości absorpcji leku<br>\n",
    "$k_e$ - stała szybkości eliminacji leku z ustroju <br>111\n",
    "$k_r$ - stała szybkości eliminacji leku drogą nerkową<br>\n",
    "$k_{nr}$ - stała szybkości eliminacji leku drogą pozanerkową<br>\n",
    "$k=k_r+k_{nr}$ - stała szybkości eliminacji leku z osocza<br>\n",
    "$V_d$ - objętość pojedynczej dystrybucji<br>\n",
    "$C$ - stężenie leku we krwi<br>\n",
    "$C_0$ - stężenie leku we krwi w czasie $t=0$ <br>\n",
    "$F$ - stosunek dawki, która się wchłonie do podanej dawki. Będziemy przyjmować $F=1$.<br>\n",
    "$$ - <br>"
   ]
  },
  {
   "cell_type": "markdown",
   "id": "2d596d4b",
   "metadata": {},
   "source": [
    "<p id=\"drogi_podania\"><h2>Droga podania leku</h2></p>"
   ]
  },
  {
   "cell_type": "markdown",
   "id": "86165776",
   "metadata": {},
   "source": [
    "Wyróżniamy dwie drogi podania leków - dożylnie oraz pozanaczyniowo. \n",
    "<br>W podaniu dożylnym zakładamy, że lek rozmieszcza się w organiźmie natychmiast i następnie jest wydalany wszystkimi możliwymi drogami.\n",
    "$$X\\xrightarrow{k_{e}}$$\n",
    "<br>W podaniu pozanaczyniowym możemy wyróżnić podanie doustne, doodbytnicze, domięśniowe, transdermalne, podskórne oraz dootrrzewnowe <a href=\"#cwteoria\">[2]</a>. Schemat blokowy opisujący jednorazową dawkę pozanaczyniową jest następujący\n",
    "$$X_{D}\\xrightarrow{k_{a}} X\\xrightarrow{k_{e}} X_{u}.$$<br>\n",
    "Szybkości zmian poszczególnych parametrów możemy opisać w następujący sposób\n",
    "\n",
    "\\begin{equation}\n",
    "\\frac{\\operatorname{d}\\!X_D}{\\operatorname{d}\\!t} = -k_a\\cdot X_D;\n",
    "\\tag{1}\n",
    "\\end{equation}\n",
    "\n",
    "\\begin{equation}\n",
    "\\frac{\\operatorname{d}\\!X}{\\operatorname{d}\\!t} = k_a\\cdot X_D-k_e\\cdot X;\n",
    "\\tag{2}\n",
    "\\end{equation}\n",
    "\n",
    "\\begin{equation}\n",
    "\\frac{\\operatorname{d}\\!{X_u}}{\\operatorname{d}\\!t} = {k_e}\\cdot {X}.\n",
    "\\tag{3}\n",
    "\\end{equation}"
   ]
  },
  {
   "cell_type": "markdown",
   "id": "d1cd7d80",
   "metadata": {},
   "source": [
    "<p id=\"procesy_wchłaniania\"><h2>Proces wchłaniania</h2></p>"
   ]
  },
  {
   "cell_type": "markdown",
   "id": "4465d795",
   "metadata": {},
   "source": [
    "?????? chyba bez tego"
   ]
  },
  {
   "cell_type": "markdown",
   "id": "09c3b57e",
   "metadata": {},
   "source": [
    "<p id=\"model\"><h2>Model jednokompartmentowy</h2></p>"
   ]
  },
  {
   "cell_type": "markdown",
   "id": "ad939b4d",
   "metadata": {},
   "source": [
    "Aby móc opisywać i analizować badania farmakokinetyczne, musimy przyjąć odpowiedni model. Zakłada się, że organizmy składają się jednego lub kilku <i>kompartmentów</i>. W zależności od tego jak dużo tkanek wykazuje podobne reakcje pod wpływem działania danego leku, możemy je łączyć w te same kompartmenty, w ten sposób otrzymując ich skończoną liczbę.<br>\n",
    "Otwarty model jednokompartmentowy zakłada natychmiastowe i homogeniczne mieszanie się leku w organiźmie. Przymiotnik <i>otwarty</i> oznacza, że substancję do organizmu możemy podać różnymi drogami (dożylnie lub pozanaczyniowo) <a href=\"#herman\">[1]</a>.<br><br>\n",
    "W dalszej części projektu zajmiemy się rozważaniem jednorazowej dawki pozanaczyniowej w modelu jednokompartmentowym."
   ]
  },
  {
   "cell_type": "markdown",
   "id": "17ac3262",
   "metadata": {},
   "source": [
    "<p id=\"wyniki\"><h2>Obliczenia</h2></p>"
   ]
  },
  {
   "cell_type": "markdown",
   "id": "6dcb2e7d",
   "metadata": {},
   "source": [
    "<p id=\"masa\"><h2>Równanie zmiany masy leku</h2></p>"
   ]
  },
  {
   "cell_type": "markdown",
   "id": "11302a11",
   "metadata": {},
   "source": [
    "Na początku chcielibyśmy rozważyć równania $(1), (2)$ i $(3)$."
   ]
  },
  {
   "cell_type": "markdown",
   "id": "8679b805",
   "metadata": {},
   "source": [
    "<b>Równanie szybkości zmiany leku w miejscu wchłaniania w zależności od upływu czasu.</b><br>\n",
    "$$\\frac{\\operatorname{d}\\!X_D}{\\operatorname{d}\\!t} = -k_a\\cdot X_D$$<br>\n",
    "Jest to równanie różniczkowe pierwszego rzędu. Rozwiążemy je korzystając z metodu rozdzielania zmiennych. Przyjmijmy warunek początkowy $X_{D}(0) = X_{0}$.\n",
    "\\begin{equation}\n",
    "\\frac{\\operatorname{d}\\!{X_D}}{X_D} = -{k_a}\\cdot \\operatorname{d}\\!t\n",
    "\\end{equation}"
   ]
  },
  {
   "cell_type": "markdown",
   "id": "0b4361a9",
   "metadata": {},
   "source": [
    "\\begin{equation}\n",
    "\\int \\frac{\\operatorname{d}\\!{X_D}}{X_D} = -{k_a} \\int{\\operatorname{d}\\!t}\n",
    "\\end{equation}"
   ]
  },
  {
   "cell_type": "markdown",
   "id": "0eb91ded",
   "metadata": {},
   "source": [
    "\\begin{equation}\n",
    "\\ln \\left|{X_D}\\right| = -k_a\\cdot t + C\n",
    "\\end{equation}"
   ]
  },
  {
   "cell_type": "markdown",
   "id": "8d5dfd42",
   "metadata": {},
   "source": [
    "\\begin{equation}\n",
    "X_D = e^{-k_a\\cdot t+C}\n",
    "\\end{equation}"
   ]
  },
  {
   "cell_type": "markdown",
   "id": "1371e5a5",
   "metadata": {},
   "source": [
    "\\begin{equation}\n",
    "X_D = e^{-k_a\\cdot t}\\cdot A\n",
    "\\end{equation}"
   ]
  },
  {
   "cell_type": "markdown",
   "id": "8577ebb4",
   "metadata": {},
   "source": [
    "Korzystamy z warunków początkowych."
   ]
  },
  {
   "cell_type": "markdown",
   "id": "15ae91fa",
   "metadata": {},
   "source": [
    "\\begin{equation}\n",
    "e^{-k_a\\cdot 0}\\cdot A=X_0\n",
    "\\end{equation}"
   ]
  },
  {
   "cell_type": "markdown",
   "id": "a81deb84",
   "metadata": {},
   "source": [
    "\\begin{equation}\n",
    "A=X_0\n",
    "\\end{equation}"
   ]
  },
  {
   "cell_type": "markdown",
   "id": "88742ac9",
   "metadata": {},
   "source": [
    "Ostatecznie\n",
    "\\begin{equation}\n",
    "X_D = e^{-k_a\\cdot t}\\cdot X_0.\n",
    "\\tag{4}\n",
    "\\end{equation}\n",
    "Oznacza to, że masa leku w miejscu podania maleje wykładniczo z biegiem czasu.<br>"
   ]
  },
  {
   "cell_type": "markdown",
   "id": "863180b8",
   "metadata": {},
   "source": [
    "<b>Równanie zmiany masy leku w kompartmencie w zależności od upływu czasu.</b>\n",
    "\\begin{equation}\n",
    "\\frac{\\operatorname{d}\\!X}{\\operatorname{d}\\!t} = k_a\\cdot X_D-k_e\\cdot X,\\ X(0)=0\n",
    "\\end{equation}"
   ]
  },
  {
   "cell_type": "markdown",
   "id": "6232eea7",
   "metadata": {},
   "source": [
    "Na początku wstawymy do naszego równania wzór $(4)$.\n",
    "\\begin{equation}\n",
    "\\frac{\\operatorname{d}\\!X}{\\operatorname{d}\\!t} = k_a\\cdot X_0\\cdot e^{-k_a\\cdot t}-k_e\\cdot X\n",
    "\\end{equation}"
   ]
  },
  {
   "cell_type": "markdown",
   "id": "f2a9545c",
   "metadata": {},
   "source": [
    "\\begin{equation}\n",
    "X' + {k_e}X = {k_a}{X_0}e^{-{k_a}t}\n",
    "\\tag{5}\n",
    "\\end{equation}"
   ]
  },
  {
   "cell_type": "markdown",
   "id": "8211f22e",
   "metadata": {},
   "source": [
    "Rozwiążemy to równanie metodą uzmienniania stałych. Na początku rozwiążemy równanie jednorodne $X' + {k_e}X =0$ metodą rozdzielania zmiennych."
   ]
  },
  {
   "cell_type": "markdown",
   "id": "f8b785d1",
   "metadata": {},
   "source": [
    "\\begin{equation}\n",
    "\\frac{\\operatorname{d}\\!X}{\\operatorname{d}\\!t} = -k_eX\n",
    "\\end{equation}"
   ]
  },
  {
   "cell_type": "markdown",
   "id": "0ec05704",
   "metadata": {},
   "source": [
    "\\begin{equation}\n",
    "\\int \\frac{\\operatorname{d}\\!{X}}{X} = -{k_e} \\int{\\operatorname{d}\\!t}\n",
    "\\end{equation}"
   ]
  },
  {
   "cell_type": "markdown",
   "id": "9c70d966",
   "metadata": {},
   "source": [
    "\\begin{equation}\n",
    "\\ln \\left|{X}\\right| = -k_et + C\n",
    "\\end{equation}"
   ]
  },
  {
   "cell_type": "markdown",
   "id": "9ceebf93",
   "metadata": {},
   "source": [
    "\\begin{equation}\n",
    "X(t)=Ae^{-k_et}\n",
    "\\end{equation}"
   ]
  },
  {
   "cell_type": "markdown",
   "id": "780f6f23",
   "metadata": {},
   "source": [
    "Następny krok to uzmiennienei stałej $A$."
   ]
  },
  {
   "cell_type": "markdown",
   "id": "58f7018b",
   "metadata": {},
   "source": [
    "\\begin{equation}\n",
    "X(t)=A(t)\\cdot e^{-k_et}\n",
    "\\tag{6}\n",
    "\\end{equation}"
   ]
  },
  {
   "cell_type": "markdown",
   "id": "0b9b9a5c",
   "metadata": {},
   "source": [
    "Obliczamy pochodną z otrzymanego równania."
   ]
  },
  {
   "cell_type": "markdown",
   "id": "a2c44e6b",
   "metadata": {},
   "source": [
    "\\begin{equation}\n",
    "X'(t)=A'(t)\\cdot e^{-k_et}-A(t)\\cdot {k_e}e^{-{k_e}t}\n",
    "\\end{equation}"
   ]
  },
  {
   "cell_type": "markdown",
   "id": "3d9df19e",
   "metadata": {},
   "source": [
    "Wyliczone $X(t)$ oraz $X'(t)$ wstawiamy do równania $(5)$."
   ]
  },
  {
   "cell_type": "markdown",
   "id": "5844e77e",
   "metadata": {},
   "source": [
    "\\begin{equation}\n",
    "A'(t)\\cdot e^{-k_et}-A(t)\\cdot {k_e}e^{-{k_e}t} + {k_e}\\cdot A(t)e^{-k_et} = {k_a}{X_0}e^{-{k_a}t}\n",
    "\\end{equation}"
   ]
  },
  {
   "cell_type": "markdown",
   "id": "171565d7",
   "metadata": {},
   "source": [
    "Redukujemy wyrazy podobne i otrzymujemy"
   ]
  },
  {
   "cell_type": "markdown",
   "id": "5ab8be0e",
   "metadata": {},
   "source": [
    "\\begin{equation}\n",
    "A'(t)\\cdot e^{-k_et}= {k_a}{X_0}e^{-{k_a}t}.\n",
    "\\end{equation}"
   ]
  },
  {
   "cell_type": "markdown",
   "id": "bcdbe65d",
   "metadata": {},
   "source": [
    "$A(t)$ obliczamy całkując obustronnie równanie."
   ]
  },
  {
   "cell_type": "markdown",
   "id": "e4d40fdc",
   "metadata": {},
   "source": [
    "\\begin{equation}\n",
    "A'(t)= {k_a}{X_0}e^{(k_e-k_a)t}\n",
    "\\end{equation}"
   ]
  },
  {
   "cell_type": "markdown",
   "id": "5f5e5776",
   "metadata": {},
   "source": [
    "\\begin{equation}\n",
    "A(t)=\\int {k_a}{X_0}e^{(k_e-k_a)t}\\operatorname{d}\\!t\n",
    "\\end{equation}"
   ]
  },
  {
   "cell_type": "markdown",
   "id": "b29d1528",
   "metadata": {},
   "source": [
    "\\begin{equation}\n",
    "A(t)=\\frac{{k_a}{X_0}}{k_e-k_a}e^{(k_e-k_a)t}+D\n",
    "\\end{equation}"
   ]
  },
  {
   "cell_type": "markdown",
   "id": "3eaca515",
   "metadata": {},
   "source": [
    "Rozwiązanie podstawiamy do równania $(6)$."
   ]
  },
  {
   "cell_type": "markdown",
   "id": "4a16411a",
   "metadata": {},
   "source": [
    "\\begin{equation}\n",
    "X(t)=\\left(\\frac{{k_a}{X_0}}{k_e-k_a}e^{(k_e-k_a)t}+D\\right)\\cdot e^{-k_et}\n",
    "\\end{equation}"
   ]
  },
  {
   "cell_type": "markdown",
   "id": "279b8f1a",
   "metadata": {},
   "source": [
    "\\begin{equation}\n",
    "X(t)=\\frac{{k_a}{X_0}}{k_e-k_a}e^{-k_at}+D\\cdot e^{-k_et}\n",
    "\\end{equation}"
   ]
  },
  {
   "cell_type": "markdown",
   "id": "f17c6973",
   "metadata": {},
   "source": [
    "Korzystamy z warunku początkowego."
   ]
  },
  {
   "cell_type": "markdown",
   "id": "7fc17794",
   "metadata": {},
   "source": [
    "\\begin{equation}\n",
    "\\frac{{k_a}{X_0}}{k_e-k_a}e^{-k_a\\cdot 0}+D\\cdot e^{-k_e\\cdot 0}=0\n",
    "\\end{equation}"
   ]
  },
  {
   "cell_type": "markdown",
   "id": "21689c55",
   "metadata": {},
   "source": [
    "\\begin{equation}\n",
    "D=-\\frac{{k_a}{X_0}}{k_e-k_a}\n",
    "\\end{equation}"
   ]
  },
  {
   "cell_type": "markdown",
   "id": "7240040d",
   "metadata": {},
   "source": [
    "Zatem równanie ilości leku w organiźmie w danej chwili $t$ prezentuje się następująco "
   ]
  },
  {
   "cell_type": "markdown",
   "id": "5d0e2a9a",
   "metadata": {},
   "source": [
    "\\begin{equation}\n",
    "X(t)=\\frac{{k_a}{X_0}}{k_e-k_a}\\left(e^{-k_at}-e^{-k_et}\\right).\n",
    "\\tag{7}\n",
    "\\end{equation}"
   ]
  },
  {
   "cell_type": "markdown",
   "id": "b30fcb82",
   "metadata": {},
   "source": [
    "<b>Równanie szybkości zmiany wydalonego leku z organizmu w zależności od upływu czasu.</b>\n",
    "\\begin{equation}\n",
    "\\frac{\\operatorname{d}\\!{X_u}}{\\operatorname{d}\\!t} = {k_e}\\cdot {X},\\ X_u(0)=0\n",
    "\\end{equation}"
   ]
  },
  {
   "cell_type": "markdown",
   "id": "90e058cc",
   "metadata": {},
   "source": [
    "Na początku podstawmy do naszego równania wzór $(7)$."
   ]
  },
  {
   "cell_type": "markdown",
   "id": "5238f408",
   "metadata": {},
   "source": [
    "\\begin{equation}\n",
    "\\frac{\\operatorname{d}\\!{X_u}}{\\operatorname{d}\\!t}=\\frac{{k_ak_e}{X_0}}{k_e-k_a}\\left(e^{-k_at}-e^{-k_et}\\right)\n",
    "\\end{equation}"
   ]
  },
  {
   "cell_type": "markdown",
   "id": "eb32db6c",
   "metadata": {},
   "source": [
    "$X_u(t)$ obliczamy całkując obustronnie równanie."
   ]
  },
  {
   "cell_type": "markdown",
   "id": "c66e7a7e",
   "metadata": {},
   "source": [
    "\\begin{equation}\n",
    "X_u(t)=\\frac{{k_ak_e}{X_0}}{k_e-k_a}\\int\\left(e^{-k_at}-e^{-k_et}\\right)\\operatorname{d}\\!t\n",
    "\\end{equation}"
   ]
  },
  {
   "cell_type": "markdown",
   "id": "eb10039c",
   "metadata": {},
   "source": [
    "\\begin{equation}\n",
    "X_u(t)=\\frac{{k_ak_e}{X_0}}{k_e-k_a}\\left(\\frac{1}{k_e}e^{-k_et}-\\frac{1}{k_a}e^{-k_at}+C\\right)\n",
    "\\end{equation}"
   ]
  },
  {
   "cell_type": "markdown",
   "id": "bcd699b4",
   "metadata": {},
   "source": [
    "\\begin{equation}\n",
    "X_u(t)=\\frac{X_0}{k_e-k_a}\\left(k_ae^{-k_et}-k_ee^{-k_at}+k_ak_eC\\right)\n",
    "\\end{equation}"
   ]
  },
  {
   "cell_type": "markdown",
   "id": "edbe1835",
   "metadata": {},
   "source": [
    "Korzystamy z warunku początkowego."
   ]
  },
  {
   "cell_type": "markdown",
   "id": "b83f922e",
   "metadata": {},
   "source": [
    "\\begin{equation}\n",
    "\\frac{X_0}{k_e-k_a}\\left(k_ae^{-k_e\\cdot 0}-k_ee^{-k_a\\cdot 0}+k_ak_eC\\right)=0\n",
    "\\end{equation}"
   ]
  },
  {
   "cell_type": "markdown",
   "id": "eda0ef9b",
   "metadata": {},
   "source": [
    "\\begin{equation}\n",
    "k_a-k_e+k_ak_eC=0\n",
    "\\end{equation}"
   ]
  },
  {
   "cell_type": "markdown",
   "id": "eac85725",
   "metadata": {},
   "source": [
    "\\begin{equation}\n",
    "C=\\frac{k_e-k_a}{k_ak_e}\n",
    "\\end{equation}"
   ]
  },
  {
   "cell_type": "markdown",
   "id": "019f4e5d",
   "metadata": {},
   "source": [
    "Zatem równanie ilości wydalonego leku z organizmu w danej chwili $t$ prezentuje się następująco"
   ]
  },
  {
   "cell_type": "markdown",
   "id": "c3300885",
   "metadata": {},
   "source": [
    "\\begin{equation}\n",
    "X_u(t)=\\frac{X_0}{k_e-k_a}\\left(k_ae^{-k_et}-k_ee^{-k_at}\\right)+X_0\n",
    "\\end{equation}"
   ]
  },
  {
   "cell_type": "markdown",
   "id": "1e81960e",
   "metadata": {},
   "source": [
    "\\begin{equation}\n",
    "X_u(t)=X_0\\left(\\frac{k_ae^{-k_et}-k_ee^{-k_at}}{k_e-k_a}+1\\right).\n",
    "\\end{equation}"
   ]
  },
  {
   "cell_type": "markdown",
   "id": "88d73c04",
   "metadata": {},
   "source": [
    "Poniżej zamieszczamy wykresy funkcji $(1), (2), (3)$ dla stałych o wartości $k_a=1,\\ k_e=0,5$ i $X_0=100mg$. Zakładamy, że lek wchłania się całkowicie, a więc $F=1$."
   ]
  },
  {
   "cell_type": "code",
   "execution_count": 26,
   "id": "0d91afd2",
   "metadata": {},
   "outputs": [
    {
     "data": {
      "image/png": "[encoded data removed]",
      "text/plain": [
       "<Figure size 432x288 with 1 Axes>"
      ]
     },
     "metadata": {
      "needs_background": "light"
     },
     "output_type": "display_data"
    }
   ],
   "source": [
    "import matplotlib.pyplot as plt\n",
    "import numpy as np\n",
    "\n",
    "ka = 1\n",
    "ke = 0.5\n",
    "xo = 100\n",
    "f = 1\n",
    "\n",
    "t = np.linspace(0, 15, 54000)\n",
    "xd = np.exp(-ka*t) * xo\n",
    "x = ((ka * xo) / (ka - ke)) * (np.exp(-ke*t) - np.exp(-ka*t))\n",
    "xu = f*xo*((ka*np.exp(-ke*t)-ke*np.exp(-ka*t))/(ke-ka)+1)\n",
    "\n",
    "plt.figure()\n",
    "plt.plot(t, xd, label=\"Ilość leku w miejscu podania\")\n",
    "plt.plot(t, x, label=\"Ilość leku w kompartmencie\")\n",
    "plt.plot(t, xu, label=\"Ilość wydalonego leku\")\n",
    "plt.xlim(0, 15)\n",
    "plt.ylim(0, 140)\n",
    "plt.xlabel(\"Czas [h]\")\n",
    "plt.ylabel(\"Ilość leku [mg]\")\n",
    "plt.legend(loc='upper right')\n",
    "plt.title(\"Zmiany ilości leku\")\n",
    "plt.show()"
   ]
  },
  {
   "cell_type": "markdown",
   "id": "6ad13d53",
   "metadata": {},
   "source": [
    "<p id=\"stezenie\"><h2>Równanie zmiany stężenia leku</h2></p>"
   ]
  },
  {
   "cell_type": "markdown",
   "id": "f9b9a2b9",
   "metadata": {},
   "source": []
  },
  {
   "cell_type": "markdown",
   "id": "6d57db3b",
   "metadata": {},
   "source": [
    "<p id=\"euler\"><h2>Metoda Eulera</h2></p>"
   ]
  },
  {
   "cell_type": "markdown",
   "id": "871bd80d",
   "metadata": {},
   "source": [
    "Równania różniczkowe nie zawsze jesteśmy w stanie rozwiązać za pomocą metod analitycznych. W takich przypadkach z pomocą przychodzą nam metody numeryczne wykonane przy użyciu komputera. Jedną z takich metod jest metoda Eulera. Opiera się ona na interpretacji geometrycznej równania różniczkowego.<br>\n",
    "Załóżmy, że mamy równanie różniczkowe postaci $y'=f(t,y)$ z danymi warunkami początkowymi. Pomysł na rozwiązanie takiego równania to dowolnie bliskie przybliżenie $y(t)$. Z definicji pochodnej mamy, że\n",
    "\\begin{equation}\n",
    "y'=\\frac{\\Delta y}{h}.\n",
    "\\end{equation}"
   ]
  },
  {
   "cell_type": "markdown",
   "id": "9c576358",
   "metadata": {},
   "source": [
    "Zatem"
   ]
  },
  {
   "cell_type": "markdown",
   "id": "3c8ec7b6",
   "metadata": {},
   "source": [
    "\\begin{equation}\n",
    "f(t_n,y_n)=\\frac{\\Delta y}{h}, \\text{ gdzie } t_{n+1}=t_n+h,\\ n=0,1,2,\\dots.\n",
    "\\end{equation}"
   ]
  },
  {
   "cell_type": "markdown",
   "id": "6bc2819c",
   "metadata": {},
   "source": [
    "Po przekształceniu otrzymujemy"
   ]
  },
  {
   "cell_type": "markdown",
   "id": "bbcd95b2",
   "metadata": {},
   "source": [
    "\\begin{equation}\n",
    "\\Delta y=hf(t_n,y_n).\n",
    "\\end{equation}"
   ]
  },
  {
   "cell_type": "markdown",
   "id": "c49b34e1",
   "metadata": {},
   "source": [
    "Dzięki temu jesteśmy napisać ostateczne równanie"
   ]
  },
  {
   "cell_type": "markdown",
   "id": "605a3770",
   "metadata": {},
   "source": [
    "\\begin{equation}\n",
    "y_{n+1}=y_n+\\Delta y=y_n+hf(t_n,y_n).\n",
    "\\end{equation}"
   ]
  },
  {
   "cell_type": "markdown",
   "id": "d732a050",
   "metadata": {},
   "source": [
    "<b>Rozwiązanie równań $(1),\\ (2),\\ (3)$ metodą Eulera.</b> "
   ]
  },
  {
   "cell_type": "markdown",
   "id": "63271abb",
   "metadata": {},
   "source": [
    "Równania rozwiązaliśmy już analitycznie, dlatego w tej części sprawdzimy jak duża będzie różnica pomiędzy wynikami uzyskanymi w metodzie Eulera i metodzie analitycznej. Na początku przedstawmimy oba rozwiązania na jednym wykresie."
   ]
  },
  {
   "cell_type": "markdown",
   "id": "0bfde006",
   "metadata": {},
   "source": [
    "\\begin{equation}\n",
    "\\frac{\\operatorname{d}\\!X_D}{\\operatorname{d}\\!t} = -k_a\\cdot X_D\n",
    "\\tag{1}\n",
    "\\end{equation}"
   ]
  },
  {
   "cell_type": "markdown",
   "id": "1c3def6d",
   "metadata": {},
   "source": [
    "\\begin{equation}\n",
    "\\frac{\\operatorname{d}\\!X}{\\operatorname{d}\\!t} = k_a X_0 e^{-k_a\\cdot t}-k_e X\n",
    "\\tag{2}\n",
    "\\end{equation}"
   ]
  },
  {
   "cell_type": "markdown",
   "id": "d5cc54e3",
   "metadata": {},
   "source": [
    "\\begin{equation}\n",
    "\\frac{\\operatorname{d}\\!{X_u}}{\\operatorname{d}\\!t}=\\frac{{k_ak_e}{X_0}}{k_e-k_a}\\left(e^{-k_at}-e^{-k_et}\\right)\n",
    "\\tag{3}\n",
    "\\end{equation}"
   ]
  },
  {
   "cell_type": "code",
   "execution_count": 12,
   "id": "aa432339",
   "metadata": {},
   "outputs": [
    {
     "data": {
      "image/png": "[encoded data removed]",
      "text/plain": [
       "<Figure size 432x288 with 1 Axes>"
      ]
     },
     "metadata": {
      "needs_background": "light"
     },
     "output_type": "display_data"
    },
    {
     "data": {
      "image/png": "[encoded data removed]",
      "text/plain": [
       "<Figure size 432x288 with 1 Axes>"
      ]
     },
     "metadata": {
      "needs_background": "light"
     },
     "output_type": "display_data"
    },
    {
     "data": {
      "image/png": "[encoded data removed]",
      "text/plain": [
       "<Figure size 432x288 with 1 Axes>"
      ]
     },
     "metadata": {
      "needs_background": "light"
     },
     "output_type": "display_data"
    }
   ],
   "source": [
    "import matplotlib.pyplot as plt\n",
    "import numpy as np\n",
    "\n",
    "\n",
    "def euler(f, y0, t0, tk, h):\n",
    "    \"\"\"Euler's method, dy(t)/dt=f(t,y)\n",
    "    f - function \n",
    "    y0 - initial value\n",
    "    t0 - initial time\n",
    "    tk - final time\n",
    "    h - step\"\"\"\n",
    "    t = np.arange(t0, tk, h)\n",
    "    n = len(t)\n",
    "    y = np.zeros(n)\n",
    "    y[0] = np.array(y0)\n",
    "    i=1\n",
    "    while i < n:\n",
    "        y[i] = np.array(y[i-1]+h*f(t[i-1], y[i-1]))\n",
    "        i = i + 1\n",
    "    return t, y\n",
    "\n",
    "\n",
    "def mass_d(t, xd):\n",
    "    return - ka * xd\n",
    "\n",
    "\n",
    "def mass(t, x):\n",
    "    return ka * np.exp(-ka*t) * xo - ke * x\n",
    "\n",
    "def mass_u(t, xu):\n",
    "    return (ka * ke * xo)/(ke-ka) * (np.exp(-ka * t)-np.exp(-ke * t))\n",
    "\n",
    "\n",
    "ka = 1\n",
    "ke = 0.5\n",
    "xo = 100\n",
    "f = 1\n",
    "\n",
    "#analitical\n",
    "t = np.arange(0, 15, 0.01)\n",
    "xd = np.exp(-ka*t) * xo\n",
    "x = ((ka * xo) / (ka - ke)) * (np.exp(-ke*t) - np.exp(-ka*t))\n",
    "xu = f*xo*((ka*np.exp(-ke*t)-ke*np.exp(-ka*t))/(ke-ka)+1)\n",
    "\n",
    "#euler\n",
    "t_xd, xd_euler = euler(mass_d, xo, 0, 15, 0.01)\n",
    "t_x, x_euler = euler(mass, 0, 0, 15, 0.01)\n",
    "t_xu, xu_euler = euler(mass_u, 0, 0, 15, 0.01)\n",
    "\n",
    "plt.figure()\n",
    "plt.plot(t, xd, label=\"Metoda analityczna\")\n",
    "plt.plot(t_xd, xd_euler, label=\"Metoda Eulera\")\n",
    "plt.xlim(0, 15)\n",
    "plt.ylim(0, 140)\n",
    "plt.xlabel(\"Czas [h]\")\n",
    "plt.ylabel(\"Ilość leku [mg]\")\n",
    "plt.legend(loc='upper right')\n",
    "plt.title(\"Zmiany ilości leku w miejscu podania\")\n",
    "plt.show()\n",
    "\n",
    "\n",
    "plt.figure()\n",
    "plt.plot(t, x, label=\"Metoda analityczna\")\n",
    "plt.plot(t_x, x_euler, label=\"Metoda Eulera\")\n",
    "plt.xlim(0, 15)\n",
    "plt.ylim(0, 140)\n",
    "plt.xlabel(\"Czas [h]\")\n",
    "plt.ylabel(\"Ilość leku [mg]\")\n",
    "plt.legend(loc='upper right')\n",
    "plt.title(\"Zmiana ilości leku w kompartmencie\")\n",
    "plt.show()\n",
    "\n",
    "\n",
    "plt.figure()\n",
    "plt.plot(t, xu, label=\"Metoda analityczna\")\n",
    "plt.plot(t_xu, xu_euler, label=\"Metoda Eulera\")\n",
    "plt.xlim(0, 15)\n",
    "plt.ylim(0, 140)\n",
    "plt.xlabel(\"Czas [h]\")\n",
    "plt.ylabel(\"Ilość leku [mg]\")\n",
    "plt.legend(loc='upper right')\n",
    "plt.title(\"Zmiany ilości wydalonego leku\")\n",
    "plt.show()\n",
    "\n"
   ]
  },
  {
   "cell_type": "markdown",
   "id": "493a88e2",
   "metadata": {},
   "source": [
    "Jak widzimy metoda się bardzo ładnie pokrywa, ktok $h=0,01$ okazał się wstarczający itd......\n",
    "\n",
    "Naszkicujmy teraz wykres różnicy między rozwiązaniem analitycznym a metodą Eulera."
   ]
  },
  {
   "cell_type": "code",
   "execution_count": 13,
   "id": "e8531b16",
   "metadata": {},
   "outputs": [
    {
     "data": {
      "image/png": "[encoded data removed]",
      "text/plain": [
       "<Figure size 432x288 with 1 Axes>"
      ]
     },
     "metadata": {
      "needs_background": "light"
     },
     "output_type": "display_data"
    }
   ],
   "source": [
    "# #analitical\n",
    "# t = np.arange(0, 15, 0.001)\n",
    "# xd = np.exp(-ka*t) * xo\n",
    "# x = ((ka * xo) / (ka - ke)) * (np.exp(-ke*t) - np.exp(-ka*t))\n",
    "# xu = f*xo*((ka*np.exp(-ke*t)-ke*np.exp(-ka*t))/(ke-ka)+1)\n",
    "\n",
    "# #euler\n",
    "# t_xd, xd_euler = euler(mass_d, xo, 0, 15, 0.001)\n",
    "# t_x, x_euler = euler(mass, 0, 0, 15, 0.001)\n",
    "# t_xu, xu_euler = euler(mass_u, 0, 0, 15, 0.001)\n",
    "\n",
    "\n",
    "plt.figure()\n",
    "plt.plot(t, np.abs(xd_euler - xd), label=\"X_d\")\n",
    "plt.plot(t, np.abs(x_euler - x), label=\"X\")\n",
    "plt.plot(t, np.abs(xu_euler - xu), label=\"X_u\")\n",
    "plt.xlabel(\"Czas [h]\")\n",
    "plt.ylabel(\"Ilość leku [mg]\")\n",
    "plt.legend(loc='upper right')\n",
    "plt.title(\"Różnica między rozwiązaniem analitycznym a rozwiązaniem metodą Eulera dla h = 0.01\")\n",
    "plt.show()"
   ]
  },
  {
   "cell_type": "markdown",
   "id": "d394e5f7",
   "metadata": {},
   "source": [
    "Jak widzimy dla kroku $h=0,001$ błąd przy metodzie Eulera jest niewielki."
   ]
  },
  {
   "cell_type": "markdown",
   "id": "7961337d",
   "metadata": {},
   "source": [
    "<p id=\"runge\"><h2>Metoda Runge-Kutta</h2></p>"
   ]
  },
  {
   "cell_type": "code",
   "execution_count": 21,
   "id": "6addd0a6",
   "metadata": {},
   "outputs": [
    {
     "data": {
      "image/png": "[encoded data removed]",
      "text/plain": [
       "<Figure size 432x288 with 1 Axes>"
      ]
     },
     "metadata": {
      "needs_background": "light"
     },
     "output_type": "display_data"
    },
    {
     "data": {
      "image/png": "[encoded data removed]",
      "text/plain": [
       "<Figure size 432x288 with 1 Axes>"
      ]
     },
     "metadata": {
      "needs_background": "light"
     },
     "output_type": "display_data"
    },
    {
     "data": {
      "image/png": "[encoded data removed]",
      "text/plain": [
       "<Figure size 432x288 with 1 Axes>"
      ]
     },
     "metadata": {
      "needs_background": "light"
     },
     "output_type": "display_data"
    }
   ],
   "source": [
    "import matplotlib.pyplot as plt\n",
    "import numpy as np\n",
    "\n",
    "\n",
    "def runge_kutta(f, y0, t0, tk, h):\n",
    "    \"\"\"Runge-Kutta's method, dy(t)/dt=f(t,y)\n",
    "    f - function \n",
    "    y0 - initial value\n",
    "    t0 - initial time\n",
    "    tk - final time\n",
    "    h - step\"\"\"\n",
    "    t = np.arange(t0, tk, h)\n",
    "    n = len(t)\n",
    "    y = np.zeros(n)\n",
    "    y[0] = np.array(y0)\n",
    "    i=1\n",
    "    while i < n:\n",
    "        k1 = h * f(t0, y[i-1])\n",
    "        k2 = h * f(t0 + 0.5 * h, y[i-1] + 0.5 * k1)\n",
    "        k3 = h * f(t0 + 0.5 * h, y[i-1] + 0.5 * k2)\n",
    "        k4 = h * f(t0 + h, y[i-1] + k3)\n",
    "        \n",
    "        y[i] = np.array(y[i-1] + (1.0 / 6.0)*(k1 + 2 * k2 + 2 * k3 + k4))\n",
    "        \n",
    "        t0+=h\n",
    "        i = i + 1\n",
    "    return t, y\n",
    "\n",
    "\n",
    "def mass_d(t, xd):\n",
    "    return - ka * xd\n",
    "\n",
    "\n",
    "def mass(t, x):\n",
    "    return ka * np.exp(-ka*t) * xo - ke * x\n",
    "\n",
    "def mass_u(t, xu):\n",
    "    return (ka * ke * xo)/(ke-ka) * (np.exp(-ka * t)-np.exp(-ke * t))\n",
    "\n",
    "\n",
    "ka = 1\n",
    "ke = 0.5\n",
    "xo = 100\n",
    "f = 1\n",
    "\n",
    "#analitical\n",
    "t = np.arange(0, 15, 0.01)\n",
    "xd = np.exp(-ka*t) * xo\n",
    "x = ((ka * xo) / (ka - ke)) * (np.exp(-ke*t) - np.exp(-ka*t))\n",
    "xu = f*xo*((ka*np.exp(-ke*t)-ke*np.exp(-ka*t))/(ke-ka)+1)\n",
    "\n",
    "#runge_kutta\n",
    "t_xd, xd_runge = runge_kutta(mass_d, xo, 0, 15, 0.01)\n",
    "t_x, x_runge = runge_kutta(mass, 0, 0, 15, 0.01)\n",
    "t_xu, xu_runge = runge_kutta(mass_u, 0, 0, 15, 0.01)\n",
    "\n",
    "plt.figure()\n",
    "plt.plot(t, xd, label=\"Metoda analityczna\")\n",
    "plt.plot(t_xd, xd_runge, label=\"Metoda Runge–Kutta\")\n",
    "plt.xlim(0, 15)\n",
    "plt.ylim(0, 140)\n",
    "plt.xlabel(\"Czas [h]\")\n",
    "plt.ylabel(\"Ilość leku [mg]\")\n",
    "plt.legend(loc='upper right')\n",
    "plt.title(\"Zmiany ilości leku w miejscu podania\")\n",
    "plt.show()\n",
    "\n",
    "\n",
    "plt.figure()\n",
    "plt.plot(t, x, label=\"Metoda analityczna\")\n",
    "plt.plot(t_x, x_runge, label=\"Metoda Runge–Kutta\")\n",
    "plt.xlim(0, 15)\n",
    "plt.ylim(0, 140)\n",
    "plt.xlabel(\"Czas [h]\")\n",
    "plt.ylabel(\"Ilość leku [mg]\")\n",
    "plt.legend(loc='upper right')\n",
    "plt.title(\"Zmiana ilości leku w kompartmencie\")\n",
    "plt.show()\n",
    "\n",
    "\n",
    "plt.figure()\n",
    "plt.plot(t, xu, label=\"Metoda analityczna\")\n",
    "plt.plot(t_xu, xu_runge, label=\"Metoda Runge–Kutta\")\n",
    "plt.xlim(0, 15)\n",
    "plt.ylim(0, 140)\n",
    "plt.xlabel(\"Czas [h]\")\n",
    "plt.ylabel(\"Ilość leku [mg]\")\n",
    "plt.legend(loc='upper right')\n",
    "plt.title(\"Zmiany ilości wydalonego leku\")\n",
    "plt.show()\n",
    "\n"
   ]
  },
  {
   "cell_type": "markdown",
   "id": "77cb9b5b",
   "metadata": {},
   "source": [
    "Różnice"
   ]
  },
  {
   "cell_type": "code",
   "execution_count": 15,
   "id": "16c54b33",
   "metadata": {},
   "outputs": [
    {
     "data": {
      "image/png": "[encoded data removed]",
      "text/plain": [
       "<Figure size 432x288 with 1 Axes>"
      ]
     },
     "metadata": {
      "needs_background": "light"
     },
     "output_type": "display_data"
    },
    {
     "data": {
      "text/plain": [
       "array([0.00000000e+00, 8.31903435e-11, 1.64732228e-10, ...,\n",
       "       3.96526345e-14, 3.92843039e-14, 3.89193750e-14])"
      ]
     },
     "execution_count": 15,
     "metadata": {},
     "output_type": "execute_result"
    }
   ],
   "source": [
    "plt.figure()\n",
    "plt.plot(t, np.abs(xd_runge - xd), label=\"X_d\")\n",
    "plt.plot(t, np.abs(x_runge - x), label=\"X\")\n",
    "plt.plot(t, np.abs(xu_runge - xu), label=\"X_u\")\n",
    "plt.xlabel(\"Czas [h]\")\n",
    "plt.ylabel(\"Ilość leku [mg]\")\n",
    "plt.legend(loc='upper right')\n",
    "plt.title(\"Różnica między rozwiązaniem analitycznym a rozwiązaniem metodą Runge-Kutta dla h = 0.01\")\n",
    "plt.show()\n",
    "\n",
    "np.abs(xd_runge - xd)"
   ]
  },
  {
   "cell_type": "markdown",
   "id": "4219380c",
   "metadata": {},
   "source": [
    "<p id=\"podsumowanie\"><h2>Podsumowanie i wnioski</h2></p>"
   ]
  },
  {
   "cell_type": "markdown",
   "id": "b43974f7",
   "metadata": {},
   "source": []
  },
  {
   "cell_type": "markdown",
   "id": "0afc6b4c",
   "metadata": {},
   "source": [
    "<p id=\"literatura\"><h2>Literatura</h2></p>"
   ]
  },
  {
   "cell_type": "markdown",
   "id": "5d04181b",
   "metadata": {},
   "source": [
    "[1] <span id=\"herman\">Hermann - Farmakokinetyka</span><br>\n",
    "[2] <span id=\"cwteoria\">cw2teoriaiwykonanie.pdf</span><br>\n",
    "[3] <span id=\"lladme\">encyklopedia.naukowy.pl/LADME</span><br>\n",
    "[4] <span id=\"lhistoria\">www.umb.edu.pl/photo/pliki/WF_jednostki/samodzielna-pracownia-biofarmacji/farmakokinetyka/seminarium_i_-_wprowadzenie_do_farmakokinetyki.pdf</span><br>"
   ]
  },
  {
   "cell_type": "code",
   "execution_count": null,
   "id": "257dcf4c",
   "metadata": {},
   "outputs": [],
   "source": []
  }
 ],
 "metadata": {
  "kernelspec": {
   "display_name": "Python 3",
   "language": "python",
   "name": "python3"
  },
  "language_info": {
   "codemirror_mode": {
    "name": "ipython",
    "version": 3
   },
   "file_extension": ".py",
   "mimetype": "text/x-python",
   "name": "python",
   "nbconvert_exporter": "python",
   "pygments_lexer": "ipython3",
   "version": "3.8.8"
  }
 },
 "nbformat": 4,
 "nbformat_minor": 5
}
